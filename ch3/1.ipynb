{
 "cells": [
  {
   "cell_type": "code",
   "id": "initial_id",
   "metadata": {
    "collapsed": true,
    "ExecuteTime": {
     "end_time": "2024-08-06T14:07:35.504179Z",
     "start_time": "2024-08-06T14:07:34.269997Z"
    }
   },
   "source": [
    "import pandas as pd\n",
    "\n",
    "df = pd.read_csv('https://www.fdsp.net/data/covid-merged.csv')"
   ],
   "outputs": [],
   "execution_count": 16
  },
  {
   "metadata": {
    "ExecuteTime": {
     "end_time": "2024-08-06T14:07:35.551559Z",
     "start_time": "2024-08-06T14:07:35.539440Z"
    }
   },
   "cell_type": "code",
   "source": "df",
   "id": "142e2c007b234bd",
   "outputs": [
    {
     "data": {
      "text/plain": [
       "             state   cases  population        gdp  urban\n",
       "0          Alabama    7068     4903185   230750.1  59.04\n",
       "1           Alaska     353      731545    54674.7  66.02\n",
       "2          Arizona    7648     7278717   379018.8  89.81\n",
       "3         Arkansas    3281     3017804   132596.4  56.16\n",
       "4       California   50470    39512223  3205000.1  94.95\n",
       "5         Colorado   15207     5758736   400863.4  86.15\n",
       "6      Connecticut   27700     3565287   290703.0  87.99\n",
       "7         Delaware    4734      973764    77879.4  83.30\n",
       "8          Florida   33683    21477737  1126510.3  91.16\n",
       "9          Georgia   25431    10617423   634137.5  75.07\n",
       "10          Hawaii     609     1415872    97001.1  91.93\n",
       "11           Idaho    2016     1787065    85791.1  70.58\n",
       "12        Illinois   52918    12671821   893355.5  88.49\n",
       "13         Indiana   18099     6732219   384871.7  72.44\n",
       "14            Iowa    7145     3155070   196247.4  64.02\n",
       "15          Kansas    4305     2913314   178605.1  74.20\n",
       "16        Kentucky    4708     4467673   218426.1  58.38\n",
       "17       Louisiana   28044     4648794   259079.3  73.19\n",
       "18           Maine    1095     1344212    68984.9  38.66\n",
       "19        Maryland   21825     6045680   432997.8  87.20\n",
       "20   Massachusetts   62205     6892503   603209.6  91.97\n",
       "21        Michigan   41348     9986857   543489.4  74.57\n",
       "22       Minnesota    5136     5639632   389503.7  73.27\n",
       "23     Mississippi    6815     2976149   117642.3  49.35\n",
       "24        Missouri    7563     6137428   332659.7  70.44\n",
       "25         Montana     452     1068778    54034.7  55.89\n",
       "26        Nebraska    4332     1934408   133201.0  73.13\n",
       "27          Nevada    5053     3080156   181751.6  94.20\n",
       "28   New Hampshire    2146     1359711    88014.8  60.30\n",
       "29      New Jersey  118652     8882190   642967.7  94.68\n",
       "30      New Mexico    3411     2096829   106914.4  77.43\n",
       "31        New York  309696    19453561  1791566.8  87.87\n",
       "32  North Carolina   10507    10488084   601787.9  66.09\n",
       "33    North Dakota    1067      762062    57471.9  59.90\n",
       "34            Ohio   18027    11689100   703368.9  77.92\n",
       "35        Oklahoma    3618     3956971   201604.3  66.24\n",
       "36          Oregon    2510     4217737   258692.6  81.03\n",
       "37    Pennsylvania   48224    12801989   818448.6  78.66\n",
       "38    Rhode Island    8621     1059361    62335.4  90.73\n",
       "39  South Carolina    6095     5148714   251664.5  66.33\n",
       "40    South Dakota    2450      884659    56051.9  56.65\n",
       "41       Tennessee   10506     6829174   380823.0  66.39\n",
       "42           Texas   29072    28995881  1861581.9  84.70\n",
       "43            Utah    4672     3205958   196639.4  90.58\n",
       "44         Vermont     866      623989    34320.2  38.90\n",
       "45        Virginia   15848     8535519   566529.4  75.45\n",
       "46      Washington   14814     7614893   624861.4  84.05\n",
       "47   West Virginia    1126     1792147    78480.5  48.72\n",
       "48       Wisconsin    6973     5822434   353935.5  70.15\n",
       "49         Wyoming     559      578759    40764.3  64.76"
      ],
      "text/html": [
       "<div>\n",
       "<style scoped>\n",
       "    .dataframe tbody tr th:only-of-type {\n",
       "        vertical-align: middle;\n",
       "    }\n",
       "\n",
       "    .dataframe tbody tr th {\n",
       "        vertical-align: top;\n",
       "    }\n",
       "\n",
       "    .dataframe thead th {\n",
       "        text-align: right;\n",
       "    }\n",
       "</style>\n",
       "<table border=\"1\" class=\"dataframe\">\n",
       "  <thead>\n",
       "    <tr style=\"text-align: right;\">\n",
       "      <th></th>\n",
       "      <th>state</th>\n",
       "      <th>cases</th>\n",
       "      <th>population</th>\n",
       "      <th>gdp</th>\n",
       "      <th>urban</th>\n",
       "    </tr>\n",
       "  </thead>\n",
       "  <tbody>\n",
       "    <tr>\n",
       "      <th>0</th>\n",
       "      <td>Alabama</td>\n",
       "      <td>7068</td>\n",
       "      <td>4903185</td>\n",
       "      <td>230750.1</td>\n",
       "      <td>59.04</td>\n",
       "    </tr>\n",
       "    <tr>\n",
       "      <th>1</th>\n",
       "      <td>Alaska</td>\n",
       "      <td>353</td>\n",
       "      <td>731545</td>\n",
       "      <td>54674.7</td>\n",
       "      <td>66.02</td>\n",
       "    </tr>\n",
       "    <tr>\n",
       "      <th>2</th>\n",
       "      <td>Arizona</td>\n",
       "      <td>7648</td>\n",
       "      <td>7278717</td>\n",
       "      <td>379018.8</td>\n",
       "      <td>89.81</td>\n",
       "    </tr>\n",
       "    <tr>\n",
       "      <th>3</th>\n",
       "      <td>Arkansas</td>\n",
       "      <td>3281</td>\n",
       "      <td>3017804</td>\n",
       "      <td>132596.4</td>\n",
       "      <td>56.16</td>\n",
       "    </tr>\n",
       "    <tr>\n",
       "      <th>4</th>\n",
       "      <td>California</td>\n",
       "      <td>50470</td>\n",
       "      <td>39512223</td>\n",
       "      <td>3205000.1</td>\n",
       "      <td>94.95</td>\n",
       "    </tr>\n",
       "    <tr>\n",
       "      <th>5</th>\n",
       "      <td>Colorado</td>\n",
       "      <td>15207</td>\n",
       "      <td>5758736</td>\n",
       "      <td>400863.4</td>\n",
       "      <td>86.15</td>\n",
       "    </tr>\n",
       "    <tr>\n",
       "      <th>6</th>\n",
       "      <td>Connecticut</td>\n",
       "      <td>27700</td>\n",
       "      <td>3565287</td>\n",
       "      <td>290703.0</td>\n",
       "      <td>87.99</td>\n",
       "    </tr>\n",
       "    <tr>\n",
       "      <th>7</th>\n",
       "      <td>Delaware</td>\n",
       "      <td>4734</td>\n",
       "      <td>973764</td>\n",
       "      <td>77879.4</td>\n",
       "      <td>83.30</td>\n",
       "    </tr>\n",
       "    <tr>\n",
       "      <th>8</th>\n",
       "      <td>Florida</td>\n",
       "      <td>33683</td>\n",
       "      <td>21477737</td>\n",
       "      <td>1126510.3</td>\n",
       "      <td>91.16</td>\n",
       "    </tr>\n",
       "    <tr>\n",
       "      <th>9</th>\n",
       "      <td>Georgia</td>\n",
       "      <td>25431</td>\n",
       "      <td>10617423</td>\n",
       "      <td>634137.5</td>\n",
       "      <td>75.07</td>\n",
       "    </tr>\n",
       "    <tr>\n",
       "      <th>10</th>\n",
       "      <td>Hawaii</td>\n",
       "      <td>609</td>\n",
       "      <td>1415872</td>\n",
       "      <td>97001.1</td>\n",
       "      <td>91.93</td>\n",
       "    </tr>\n",
       "    <tr>\n",
       "      <th>11</th>\n",
       "      <td>Idaho</td>\n",
       "      <td>2016</td>\n",
       "      <td>1787065</td>\n",
       "      <td>85791.1</td>\n",
       "      <td>70.58</td>\n",
       "    </tr>\n",
       "    <tr>\n",
       "      <th>12</th>\n",
       "      <td>Illinois</td>\n",
       "      <td>52918</td>\n",
       "      <td>12671821</td>\n",
       "      <td>893355.5</td>\n",
       "      <td>88.49</td>\n",
       "    </tr>\n",
       "    <tr>\n",
       "      <th>13</th>\n",
       "      <td>Indiana</td>\n",
       "      <td>18099</td>\n",
       "      <td>6732219</td>\n",
       "      <td>384871.7</td>\n",
       "      <td>72.44</td>\n",
       "    </tr>\n",
       "    <tr>\n",
       "      <th>14</th>\n",
       "      <td>Iowa</td>\n",
       "      <td>7145</td>\n",
       "      <td>3155070</td>\n",
       "      <td>196247.4</td>\n",
       "      <td>64.02</td>\n",
       "    </tr>\n",
       "    <tr>\n",
       "      <th>15</th>\n",
       "      <td>Kansas</td>\n",
       "      <td>4305</td>\n",
       "      <td>2913314</td>\n",
       "      <td>178605.1</td>\n",
       "      <td>74.20</td>\n",
       "    </tr>\n",
       "    <tr>\n",
       "      <th>16</th>\n",
       "      <td>Kentucky</td>\n",
       "      <td>4708</td>\n",
       "      <td>4467673</td>\n",
       "      <td>218426.1</td>\n",
       "      <td>58.38</td>\n",
       "    </tr>\n",
       "    <tr>\n",
       "      <th>17</th>\n",
       "      <td>Louisiana</td>\n",
       "      <td>28044</td>\n",
       "      <td>4648794</td>\n",
       "      <td>259079.3</td>\n",
       "      <td>73.19</td>\n",
       "    </tr>\n",
       "    <tr>\n",
       "      <th>18</th>\n",
       "      <td>Maine</td>\n",
       "      <td>1095</td>\n",
       "      <td>1344212</td>\n",
       "      <td>68984.9</td>\n",
       "      <td>38.66</td>\n",
       "    </tr>\n",
       "    <tr>\n",
       "      <th>19</th>\n",
       "      <td>Maryland</td>\n",
       "      <td>21825</td>\n",
       "      <td>6045680</td>\n",
       "      <td>432997.8</td>\n",
       "      <td>87.20</td>\n",
       "    </tr>\n",
       "    <tr>\n",
       "      <th>20</th>\n",
       "      <td>Massachusetts</td>\n",
       "      <td>62205</td>\n",
       "      <td>6892503</td>\n",
       "      <td>603209.6</td>\n",
       "      <td>91.97</td>\n",
       "    </tr>\n",
       "    <tr>\n",
       "      <th>21</th>\n",
       "      <td>Michigan</td>\n",
       "      <td>41348</td>\n",
       "      <td>9986857</td>\n",
       "      <td>543489.4</td>\n",
       "      <td>74.57</td>\n",
       "    </tr>\n",
       "    <tr>\n",
       "      <th>22</th>\n",
       "      <td>Minnesota</td>\n",
       "      <td>5136</td>\n",
       "      <td>5639632</td>\n",
       "      <td>389503.7</td>\n",
       "      <td>73.27</td>\n",
       "    </tr>\n",
       "    <tr>\n",
       "      <th>23</th>\n",
       "      <td>Mississippi</td>\n",
       "      <td>6815</td>\n",
       "      <td>2976149</td>\n",
       "      <td>117642.3</td>\n",
       "      <td>49.35</td>\n",
       "    </tr>\n",
       "    <tr>\n",
       "      <th>24</th>\n",
       "      <td>Missouri</td>\n",
       "      <td>7563</td>\n",
       "      <td>6137428</td>\n",
       "      <td>332659.7</td>\n",
       "      <td>70.44</td>\n",
       "    </tr>\n",
       "    <tr>\n",
       "      <th>25</th>\n",
       "      <td>Montana</td>\n",
       "      <td>452</td>\n",
       "      <td>1068778</td>\n",
       "      <td>54034.7</td>\n",
       "      <td>55.89</td>\n",
       "    </tr>\n",
       "    <tr>\n",
       "      <th>26</th>\n",
       "      <td>Nebraska</td>\n",
       "      <td>4332</td>\n",
       "      <td>1934408</td>\n",
       "      <td>133201.0</td>\n",
       "      <td>73.13</td>\n",
       "    </tr>\n",
       "    <tr>\n",
       "      <th>27</th>\n",
       "      <td>Nevada</td>\n",
       "      <td>5053</td>\n",
       "      <td>3080156</td>\n",
       "      <td>181751.6</td>\n",
       "      <td>94.20</td>\n",
       "    </tr>\n",
       "    <tr>\n",
       "      <th>28</th>\n",
       "      <td>New Hampshire</td>\n",
       "      <td>2146</td>\n",
       "      <td>1359711</td>\n",
       "      <td>88014.8</td>\n",
       "      <td>60.30</td>\n",
       "    </tr>\n",
       "    <tr>\n",
       "      <th>29</th>\n",
       "      <td>New Jersey</td>\n",
       "      <td>118652</td>\n",
       "      <td>8882190</td>\n",
       "      <td>642967.7</td>\n",
       "      <td>94.68</td>\n",
       "    </tr>\n",
       "    <tr>\n",
       "      <th>30</th>\n",
       "      <td>New Mexico</td>\n",
       "      <td>3411</td>\n",
       "      <td>2096829</td>\n",
       "      <td>106914.4</td>\n",
       "      <td>77.43</td>\n",
       "    </tr>\n",
       "    <tr>\n",
       "      <th>31</th>\n",
       "      <td>New York</td>\n",
       "      <td>309696</td>\n",
       "      <td>19453561</td>\n",
       "      <td>1791566.8</td>\n",
       "      <td>87.87</td>\n",
       "    </tr>\n",
       "    <tr>\n",
       "      <th>32</th>\n",
       "      <td>North Carolina</td>\n",
       "      <td>10507</td>\n",
       "      <td>10488084</td>\n",
       "      <td>601787.9</td>\n",
       "      <td>66.09</td>\n",
       "    </tr>\n",
       "    <tr>\n",
       "      <th>33</th>\n",
       "      <td>North Dakota</td>\n",
       "      <td>1067</td>\n",
       "      <td>762062</td>\n",
       "      <td>57471.9</td>\n",
       "      <td>59.90</td>\n",
       "    </tr>\n",
       "    <tr>\n",
       "      <th>34</th>\n",
       "      <td>Ohio</td>\n",
       "      <td>18027</td>\n",
       "      <td>11689100</td>\n",
       "      <td>703368.9</td>\n",
       "      <td>77.92</td>\n",
       "    </tr>\n",
       "    <tr>\n",
       "      <th>35</th>\n",
       "      <td>Oklahoma</td>\n",
       "      <td>3618</td>\n",
       "      <td>3956971</td>\n",
       "      <td>201604.3</td>\n",
       "      <td>66.24</td>\n",
       "    </tr>\n",
       "    <tr>\n",
       "      <th>36</th>\n",
       "      <td>Oregon</td>\n",
       "      <td>2510</td>\n",
       "      <td>4217737</td>\n",
       "      <td>258692.6</td>\n",
       "      <td>81.03</td>\n",
       "    </tr>\n",
       "    <tr>\n",
       "      <th>37</th>\n",
       "      <td>Pennsylvania</td>\n",
       "      <td>48224</td>\n",
       "      <td>12801989</td>\n",
       "      <td>818448.6</td>\n",
       "      <td>78.66</td>\n",
       "    </tr>\n",
       "    <tr>\n",
       "      <th>38</th>\n",
       "      <td>Rhode Island</td>\n",
       "      <td>8621</td>\n",
       "      <td>1059361</td>\n",
       "      <td>62335.4</td>\n",
       "      <td>90.73</td>\n",
       "    </tr>\n",
       "    <tr>\n",
       "      <th>39</th>\n",
       "      <td>South Carolina</td>\n",
       "      <td>6095</td>\n",
       "      <td>5148714</td>\n",
       "      <td>251664.5</td>\n",
       "      <td>66.33</td>\n",
       "    </tr>\n",
       "    <tr>\n",
       "      <th>40</th>\n",
       "      <td>South Dakota</td>\n",
       "      <td>2450</td>\n",
       "      <td>884659</td>\n",
       "      <td>56051.9</td>\n",
       "      <td>56.65</td>\n",
       "    </tr>\n",
       "    <tr>\n",
       "      <th>41</th>\n",
       "      <td>Tennessee</td>\n",
       "      <td>10506</td>\n",
       "      <td>6829174</td>\n",
       "      <td>380823.0</td>\n",
       "      <td>66.39</td>\n",
       "    </tr>\n",
       "    <tr>\n",
       "      <th>42</th>\n",
       "      <td>Texas</td>\n",
       "      <td>29072</td>\n",
       "      <td>28995881</td>\n",
       "      <td>1861581.9</td>\n",
       "      <td>84.70</td>\n",
       "    </tr>\n",
       "    <tr>\n",
       "      <th>43</th>\n",
       "      <td>Utah</td>\n",
       "      <td>4672</td>\n",
       "      <td>3205958</td>\n",
       "      <td>196639.4</td>\n",
       "      <td>90.58</td>\n",
       "    </tr>\n",
       "    <tr>\n",
       "      <th>44</th>\n",
       "      <td>Vermont</td>\n",
       "      <td>866</td>\n",
       "      <td>623989</td>\n",
       "      <td>34320.2</td>\n",
       "      <td>38.90</td>\n",
       "    </tr>\n",
       "    <tr>\n",
       "      <th>45</th>\n",
       "      <td>Virginia</td>\n",
       "      <td>15848</td>\n",
       "      <td>8535519</td>\n",
       "      <td>566529.4</td>\n",
       "      <td>75.45</td>\n",
       "    </tr>\n",
       "    <tr>\n",
       "      <th>46</th>\n",
       "      <td>Washington</td>\n",
       "      <td>14814</td>\n",
       "      <td>7614893</td>\n",
       "      <td>624861.4</td>\n",
       "      <td>84.05</td>\n",
       "    </tr>\n",
       "    <tr>\n",
       "      <th>47</th>\n",
       "      <td>West Virginia</td>\n",
       "      <td>1126</td>\n",
       "      <td>1792147</td>\n",
       "      <td>78480.5</td>\n",
       "      <td>48.72</td>\n",
       "    </tr>\n",
       "    <tr>\n",
       "      <th>48</th>\n",
       "      <td>Wisconsin</td>\n",
       "      <td>6973</td>\n",
       "      <td>5822434</td>\n",
       "      <td>353935.5</td>\n",
       "      <td>70.15</td>\n",
       "    </tr>\n",
       "    <tr>\n",
       "      <th>49</th>\n",
       "      <td>Wyoming</td>\n",
       "      <td>559</td>\n",
       "      <td>578759</td>\n",
       "      <td>40764.3</td>\n",
       "      <td>64.76</td>\n",
       "    </tr>\n",
       "  </tbody>\n",
       "</table>\n",
       "</div>"
      ]
     },
     "execution_count": 17,
     "metadata": {},
     "output_type": "execute_result"
    }
   ],
   "execution_count": 17
  },
  {
   "metadata": {
    "ExecuteTime": {
     "end_time": "2024-08-06T14:07:35.604260Z",
     "start_time": "2024-08-06T14:07:35.598687Z"
    }
   },
   "cell_type": "code",
   "source": "df['state'].head()",
   "id": "66948146dca54676",
   "outputs": [
    {
     "data": {
      "text/plain": [
       "0       Alabama\n",
       "1        Alaska\n",
       "2       Arizona\n",
       "3      Arkansas\n",
       "4    California\n",
       "Name: state, dtype: object"
      ]
     },
     "execution_count": 18,
     "metadata": {},
     "output_type": "execute_result"
    }
   ],
   "execution_count": 18
  },
  {
   "metadata": {
    "ExecuteTime": {
     "end_time": "2024-08-06T14:07:35.751977Z",
     "start_time": "2024-08-06T14:07:35.748269Z"
    }
   },
   "cell_type": "code",
   "source": "type(df['state'])",
   "id": "32c2b3cae61c28f8",
   "outputs": [
    {
     "data": {
      "text/plain": [
       "pandas.core.series.Series"
      ]
     },
     "execution_count": 19,
     "metadata": {},
     "output_type": "execute_result"
    }
   ],
   "execution_count": 19
  },
  {
   "metadata": {
    "ExecuteTime": {
     "end_time": "2024-08-06T14:07:35.942928Z",
     "start_time": "2024-08-06T14:07:35.937075Z"
    }
   },
   "cell_type": "code",
   "source": "df[['state', 'cases']].head()",
   "id": "9880e9dfa5968cc",
   "outputs": [
    {
     "data": {
      "text/plain": [
       "        state  cases\n",
       "0     Alabama   7068\n",
       "1      Alaska    353\n",
       "2     Arizona   7648\n",
       "3    Arkansas   3281\n",
       "4  California  50470"
      ],
      "text/html": [
       "<div>\n",
       "<style scoped>\n",
       "    .dataframe tbody tr th:only-of-type {\n",
       "        vertical-align: middle;\n",
       "    }\n",
       "\n",
       "    .dataframe tbody tr th {\n",
       "        vertical-align: top;\n",
       "    }\n",
       "\n",
       "    .dataframe thead th {\n",
       "        text-align: right;\n",
       "    }\n",
       "</style>\n",
       "<table border=\"1\" class=\"dataframe\">\n",
       "  <thead>\n",
       "    <tr style=\"text-align: right;\">\n",
       "      <th></th>\n",
       "      <th>state</th>\n",
       "      <th>cases</th>\n",
       "    </tr>\n",
       "  </thead>\n",
       "  <tbody>\n",
       "    <tr>\n",
       "      <th>0</th>\n",
       "      <td>Alabama</td>\n",
       "      <td>7068</td>\n",
       "    </tr>\n",
       "    <tr>\n",
       "      <th>1</th>\n",
       "      <td>Alaska</td>\n",
       "      <td>353</td>\n",
       "    </tr>\n",
       "    <tr>\n",
       "      <th>2</th>\n",
       "      <td>Arizona</td>\n",
       "      <td>7648</td>\n",
       "    </tr>\n",
       "    <tr>\n",
       "      <th>3</th>\n",
       "      <td>Arkansas</td>\n",
       "      <td>3281</td>\n",
       "    </tr>\n",
       "    <tr>\n",
       "      <th>4</th>\n",
       "      <td>California</td>\n",
       "      <td>50470</td>\n",
       "    </tr>\n",
       "  </tbody>\n",
       "</table>\n",
       "</div>"
      ]
     },
     "execution_count": 20,
     "metadata": {},
     "output_type": "execute_result"
    }
   ],
   "execution_count": 20
  },
  {
   "metadata": {
    "ExecuteTime": {
     "end_time": "2024-08-06T14:07:36.049545Z",
     "start_time": "2024-08-06T14:07:36.044376Z"
    }
   },
   "cell_type": "code",
   "source": "type(df[['state', 'cases']])",
   "id": "8499baf96f19fbdc",
   "outputs": [
    {
     "data": {
      "text/plain": [
       "pandas.core.frame.DataFrame"
      ]
     },
     "execution_count": 21,
     "metadata": {},
     "output_type": "execute_result"
    }
   ],
   "execution_count": 21
  },
  {
   "metadata": {
    "ExecuteTime": {
     "end_time": "2024-08-06T14:07:36.202622Z",
     "start_time": "2024-08-06T14:07:36.197994Z"
    }
   },
   "cell_type": "code",
   "source": "df.loc[1]",
   "id": "861b1e6b0f6660d1",
   "outputs": [
    {
     "data": {
      "text/plain": [
       "state          Alaska\n",
       "cases             353\n",
       "population     731545\n",
       "gdp           54674.7\n",
       "urban           66.02\n",
       "Name: 1, dtype: object"
      ]
     },
     "execution_count": 22,
     "metadata": {},
     "output_type": "execute_result"
    }
   ],
   "execution_count": 22
  },
  {
   "metadata": {
    "ExecuteTime": {
     "end_time": "2024-08-06T14:07:36.301538Z",
     "start_time": "2024-08-06T14:07:36.295034Z"
    }
   },
   "cell_type": "code",
   "source": "df.loc[1:5]",
   "id": "21692a9df15463eb",
   "outputs": [
    {
     "data": {
      "text/plain": [
       "        state  cases  population        gdp  urban\n",
       "1      Alaska    353      731545    54674.7  66.02\n",
       "2     Arizona   7648     7278717   379018.8  89.81\n",
       "3    Arkansas   3281     3017804   132596.4  56.16\n",
       "4  California  50470    39512223  3205000.1  94.95\n",
       "5    Colorado  15207     5758736   400863.4  86.15"
      ],
      "text/html": [
       "<div>\n",
       "<style scoped>\n",
       "    .dataframe tbody tr th:only-of-type {\n",
       "        vertical-align: middle;\n",
       "    }\n",
       "\n",
       "    .dataframe tbody tr th {\n",
       "        vertical-align: top;\n",
       "    }\n",
       "\n",
       "    .dataframe thead th {\n",
       "        text-align: right;\n",
       "    }\n",
       "</style>\n",
       "<table border=\"1\" class=\"dataframe\">\n",
       "  <thead>\n",
       "    <tr style=\"text-align: right;\">\n",
       "      <th></th>\n",
       "      <th>state</th>\n",
       "      <th>cases</th>\n",
       "      <th>population</th>\n",
       "      <th>gdp</th>\n",
       "      <th>urban</th>\n",
       "    </tr>\n",
       "  </thead>\n",
       "  <tbody>\n",
       "    <tr>\n",
       "      <th>1</th>\n",
       "      <td>Alaska</td>\n",
       "      <td>353</td>\n",
       "      <td>731545</td>\n",
       "      <td>54674.7</td>\n",
       "      <td>66.02</td>\n",
       "    </tr>\n",
       "    <tr>\n",
       "      <th>2</th>\n",
       "      <td>Arizona</td>\n",
       "      <td>7648</td>\n",
       "      <td>7278717</td>\n",
       "      <td>379018.8</td>\n",
       "      <td>89.81</td>\n",
       "    </tr>\n",
       "    <tr>\n",
       "      <th>3</th>\n",
       "      <td>Arkansas</td>\n",
       "      <td>3281</td>\n",
       "      <td>3017804</td>\n",
       "      <td>132596.4</td>\n",
       "      <td>56.16</td>\n",
       "    </tr>\n",
       "    <tr>\n",
       "      <th>4</th>\n",
       "      <td>California</td>\n",
       "      <td>50470</td>\n",
       "      <td>39512223</td>\n",
       "      <td>3205000.1</td>\n",
       "      <td>94.95</td>\n",
       "    </tr>\n",
       "    <tr>\n",
       "      <th>5</th>\n",
       "      <td>Colorado</td>\n",
       "      <td>15207</td>\n",
       "      <td>5758736</td>\n",
       "      <td>400863.4</td>\n",
       "      <td>86.15</td>\n",
       "    </tr>\n",
       "  </tbody>\n",
       "</table>\n",
       "</div>"
      ]
     },
     "execution_count": 23,
     "metadata": {},
     "output_type": "execute_result"
    }
   ],
   "execution_count": 23
  },
  {
   "metadata": {
    "ExecuteTime": {
     "end_time": "2024-08-06T14:07:36.429363Z",
     "start_time": "2024-08-06T14:07:36.422464Z"
    }
   },
   "cell_type": "code",
   "source": "df.loc[45:50, ['state', 'cases']]",
   "id": "6b220bf3ab2336af",
   "outputs": [
    {
     "data": {
      "text/plain": [
       "            state  cases\n",
       "45       Virginia  15848\n",
       "46     Washington  14814\n",
       "47  West Virginia   1126\n",
       "48      Wisconsin   6973\n",
       "49        Wyoming    559"
      ],
      "text/html": [
       "<div>\n",
       "<style scoped>\n",
       "    .dataframe tbody tr th:only-of-type {\n",
       "        vertical-align: middle;\n",
       "    }\n",
       "\n",
       "    .dataframe tbody tr th {\n",
       "        vertical-align: top;\n",
       "    }\n",
       "\n",
       "    .dataframe thead th {\n",
       "        text-align: right;\n",
       "    }\n",
       "</style>\n",
       "<table border=\"1\" class=\"dataframe\">\n",
       "  <thead>\n",
       "    <tr style=\"text-align: right;\">\n",
       "      <th></th>\n",
       "      <th>state</th>\n",
       "      <th>cases</th>\n",
       "    </tr>\n",
       "  </thead>\n",
       "  <tbody>\n",
       "    <tr>\n",
       "      <th>45</th>\n",
       "      <td>Virginia</td>\n",
       "      <td>15848</td>\n",
       "    </tr>\n",
       "    <tr>\n",
       "      <th>46</th>\n",
       "      <td>Washington</td>\n",
       "      <td>14814</td>\n",
       "    </tr>\n",
       "    <tr>\n",
       "      <th>47</th>\n",
       "      <td>West Virginia</td>\n",
       "      <td>1126</td>\n",
       "    </tr>\n",
       "    <tr>\n",
       "      <th>48</th>\n",
       "      <td>Wisconsin</td>\n",
       "      <td>6973</td>\n",
       "    </tr>\n",
       "    <tr>\n",
       "      <th>49</th>\n",
       "      <td>Wyoming</td>\n",
       "      <td>559</td>\n",
       "    </tr>\n",
       "  </tbody>\n",
       "</table>\n",
       "</div>"
      ]
     },
     "execution_count": 24,
     "metadata": {},
     "output_type": "execute_result"
    }
   ],
   "execution_count": 24
  },
  {
   "metadata": {
    "ExecuteTime": {
     "end_time": "2024-08-06T14:07:36.596781Z",
     "start_time": "2024-08-06T14:07:36.589211Z"
    }
   },
   "cell_type": "code",
   "source": "df.set_index('state').head()",
   "id": "df547e69cdbf2c89",
   "outputs": [
    {
     "data": {
      "text/plain": [
       "            cases  population        gdp  urban\n",
       "state                                          \n",
       "Alabama      7068     4903185   230750.1  59.04\n",
       "Alaska        353      731545    54674.7  66.02\n",
       "Arizona      7648     7278717   379018.8  89.81\n",
       "Arkansas     3281     3017804   132596.4  56.16\n",
       "California  50470    39512223  3205000.1  94.95"
      ],
      "text/html": [
       "<div>\n",
       "<style scoped>\n",
       "    .dataframe tbody tr th:only-of-type {\n",
       "        vertical-align: middle;\n",
       "    }\n",
       "\n",
       "    .dataframe tbody tr th {\n",
       "        vertical-align: top;\n",
       "    }\n",
       "\n",
       "    .dataframe thead th {\n",
       "        text-align: right;\n",
       "    }\n",
       "</style>\n",
       "<table border=\"1\" class=\"dataframe\">\n",
       "  <thead>\n",
       "    <tr style=\"text-align: right;\">\n",
       "      <th></th>\n",
       "      <th>cases</th>\n",
       "      <th>population</th>\n",
       "      <th>gdp</th>\n",
       "      <th>urban</th>\n",
       "    </tr>\n",
       "    <tr>\n",
       "      <th>state</th>\n",
       "      <th></th>\n",
       "      <th></th>\n",
       "      <th></th>\n",
       "      <th></th>\n",
       "    </tr>\n",
       "  </thead>\n",
       "  <tbody>\n",
       "    <tr>\n",
       "      <th>Alabama</th>\n",
       "      <td>7068</td>\n",
       "      <td>4903185</td>\n",
       "      <td>230750.1</td>\n",
       "      <td>59.04</td>\n",
       "    </tr>\n",
       "    <tr>\n",
       "      <th>Alaska</th>\n",
       "      <td>353</td>\n",
       "      <td>731545</td>\n",
       "      <td>54674.7</td>\n",
       "      <td>66.02</td>\n",
       "    </tr>\n",
       "    <tr>\n",
       "      <th>Arizona</th>\n",
       "      <td>7648</td>\n",
       "      <td>7278717</td>\n",
       "      <td>379018.8</td>\n",
       "      <td>89.81</td>\n",
       "    </tr>\n",
       "    <tr>\n",
       "      <th>Arkansas</th>\n",
       "      <td>3281</td>\n",
       "      <td>3017804</td>\n",
       "      <td>132596.4</td>\n",
       "      <td>56.16</td>\n",
       "    </tr>\n",
       "    <tr>\n",
       "      <th>California</th>\n",
       "      <td>50470</td>\n",
       "      <td>39512223</td>\n",
       "      <td>3205000.1</td>\n",
       "      <td>94.95</td>\n",
       "    </tr>\n",
       "  </tbody>\n",
       "</table>\n",
       "</div>"
      ]
     },
     "execution_count": 25,
     "metadata": {},
     "output_type": "execute_result"
    }
   ],
   "execution_count": 25
  },
  {
   "metadata": {
    "ExecuteTime": {
     "end_time": "2024-08-06T14:07:36.770360Z",
     "start_time": "2024-08-06T14:07:36.762827Z"
    }
   },
   "cell_type": "code",
   "source": "df.head()",
   "id": "e41a2b63ddeaeff2",
   "outputs": [
    {
     "data": {
      "text/plain": [
       "        state  cases  population        gdp  urban\n",
       "0     Alabama   7068     4903185   230750.1  59.04\n",
       "1      Alaska    353      731545    54674.7  66.02\n",
       "2     Arizona   7648     7278717   379018.8  89.81\n",
       "3    Arkansas   3281     3017804   132596.4  56.16\n",
       "4  California  50470    39512223  3205000.1  94.95"
      ],
      "text/html": [
       "<div>\n",
       "<style scoped>\n",
       "    .dataframe tbody tr th:only-of-type {\n",
       "        vertical-align: middle;\n",
       "    }\n",
       "\n",
       "    .dataframe tbody tr th {\n",
       "        vertical-align: top;\n",
       "    }\n",
       "\n",
       "    .dataframe thead th {\n",
       "        text-align: right;\n",
       "    }\n",
       "</style>\n",
       "<table border=\"1\" class=\"dataframe\">\n",
       "  <thead>\n",
       "    <tr style=\"text-align: right;\">\n",
       "      <th></th>\n",
       "      <th>state</th>\n",
       "      <th>cases</th>\n",
       "      <th>population</th>\n",
       "      <th>gdp</th>\n",
       "      <th>urban</th>\n",
       "    </tr>\n",
       "  </thead>\n",
       "  <tbody>\n",
       "    <tr>\n",
       "      <th>0</th>\n",
       "      <td>Alabama</td>\n",
       "      <td>7068</td>\n",
       "      <td>4903185</td>\n",
       "      <td>230750.1</td>\n",
       "      <td>59.04</td>\n",
       "    </tr>\n",
       "    <tr>\n",
       "      <th>1</th>\n",
       "      <td>Alaska</td>\n",
       "      <td>353</td>\n",
       "      <td>731545</td>\n",
       "      <td>54674.7</td>\n",
       "      <td>66.02</td>\n",
       "    </tr>\n",
       "    <tr>\n",
       "      <th>2</th>\n",
       "      <td>Arizona</td>\n",
       "      <td>7648</td>\n",
       "      <td>7278717</td>\n",
       "      <td>379018.8</td>\n",
       "      <td>89.81</td>\n",
       "    </tr>\n",
       "    <tr>\n",
       "      <th>3</th>\n",
       "      <td>Arkansas</td>\n",
       "      <td>3281</td>\n",
       "      <td>3017804</td>\n",
       "      <td>132596.4</td>\n",
       "      <td>56.16</td>\n",
       "    </tr>\n",
       "    <tr>\n",
       "      <th>4</th>\n",
       "      <td>California</td>\n",
       "      <td>50470</td>\n",
       "      <td>39512223</td>\n",
       "      <td>3205000.1</td>\n",
       "      <td>94.95</td>\n",
       "    </tr>\n",
       "  </tbody>\n",
       "</table>\n",
       "</div>"
      ]
     },
     "execution_count": 26,
     "metadata": {},
     "output_type": "execute_result"
    }
   ],
   "execution_count": 26
  },
  {
   "metadata": {
    "ExecuteTime": {
     "end_time": "2024-08-06T14:07:36.899693Z",
     "start_time": "2024-08-06T14:07:36.896544Z"
    }
   },
   "cell_type": "code",
   "source": "df.set_index('state', inplace=True)",
   "id": "72f764e207e6497b",
   "outputs": [],
   "execution_count": 27
  },
  {
   "metadata": {
    "ExecuteTime": {
     "end_time": "2024-08-06T14:07:37.052617Z",
     "start_time": "2024-08-06T14:07:37.047372Z"
    }
   },
   "cell_type": "code",
   "source": "df.loc['Florida']",
   "id": "16fbe4379a8179c1",
   "outputs": [
    {
     "data": {
      "text/plain": [
       "cases            33683.00\n",
       "population    21477737.00\n",
       "gdp            1126510.30\n",
       "urban               91.16\n",
       "Name: Florida, dtype: float64"
      ]
     },
     "execution_count": 28,
     "metadata": {},
     "output_type": "execute_result"
    }
   ],
   "execution_count": 28
  },
  {
   "metadata": {
    "ExecuteTime": {
     "end_time": "2024-08-06T14:07:37.200132Z",
     "start_time": "2024-08-06T14:07:37.195757Z"
    }
   },
   "cell_type": "code",
   "source": "df['cases'].head()",
   "id": "19b594435648764c",
   "outputs": [
    {
     "data": {
      "text/plain": [
       "state\n",
       "Alabama        7068\n",
       "Alaska          353\n",
       "Arizona        7648\n",
       "Arkansas       3281\n",
       "California    50470\n",
       "Name: cases, dtype: int64"
      ]
     },
     "execution_count": 29,
     "metadata": {},
     "output_type": "execute_result"
    }
   ],
   "execution_count": 29
  },
  {
   "metadata": {
    "ExecuteTime": {
     "end_time": "2024-08-06T14:07:37.305292Z",
     "start_time": "2024-08-06T14:07:37.301721Z"
    }
   },
   "cell_type": "code",
   "source": "print(df['cases'].to_list())",
   "id": "7b0aa900e6bb540a",
   "outputs": [
    {
     "name": "stdout",
     "output_type": "stream",
     "text": [
      "[7068, 353, 7648, 3281, 50470, 15207, 27700, 4734, 33683, 25431, 609, 2016, 52918, 18099, 7145, 4305, 4708, 28044, 1095, 21825, 62205, 41348, 5136, 6815, 7563, 452, 4332, 5053, 2146, 118652, 3411, 309696, 10507, 1067, 18027, 3618, 2510, 48224, 8621, 6095, 2450, 10506, 29072, 4672, 866, 15848, 14814, 1126, 6973, 559]\n"
     ]
    }
   ],
   "execution_count": 30
  },
  {
   "metadata": {
    "ExecuteTime": {
     "end_time": "2024-08-06T14:07:49.406738Z",
     "start_time": "2024-08-06T14:07:49.402330Z"
    }
   },
   "cell_type": "code",
   "source": "df['cases'].to_numpy()",
   "id": "856d553141b68bdb",
   "outputs": [
    {
     "data": {
      "text/plain": [
       "array([  7068,    353,   7648,   3281,  50470,  15207,  27700,   4734,\n",
       "        33683,  25431,    609,   2016,  52918,  18099,   7145,   4305,\n",
       "         4708,  28044,   1095,  21825,  62205,  41348,   5136,   6815,\n",
       "         7563,    452,   4332,   5053,   2146, 118652,   3411, 309696,\n",
       "        10507,   1067,  18027,   3618,   2510,  48224,   8621,   6095,\n",
       "         2450,  10506,  29072,   4672,    866,  15848,  14814,   1126,\n",
       "         6973,    559])"
      ]
     },
     "execution_count": 31,
     "metadata": {},
     "output_type": "execute_result"
    }
   ],
   "execution_count": 31
  },
  {
   "metadata": {
    "ExecuteTime": {
     "end_time": "2024-08-06T14:09:04.700878Z",
     "start_time": "2024-08-06T14:09:04.697236Z"
    }
   },
   "cell_type": "code",
   "source": [
    "cases = df['cases'].to_numpy()\n",
    "pop = df['population'].to_numpy()\n",
    "gdp = df['gdp'].to_numpy()\n",
    "urban = df['urban'].to_numpy()"
   ],
   "id": "23127455bf39310a",
   "outputs": [],
   "execution_count": 32
  },
  {
   "metadata": {
    "ExecuteTime": {
     "end_time": "2024-08-06T14:09:24.380301Z",
     "start_time": "2024-08-06T14:09:22.712818Z"
    }
   },
   "cell_type": "code",
   "source": [
    "from matplotlib import pyplot as plt\n",
    "\n",
    "N = len(cases)\n",
    "plt.scatter(range(N), cases)\n",
    "plt.xlabel('State number')\n",
    "plt.ylabel('No. of cases')\n",
    "plt.title('COVID-19 cases through April 30, 2020');"
   ],
   "id": "f148dcb562cf043c",
   "outputs": [
    {
     "data": {
      "text/plain": [
       "<Figure size 640x480 with 1 Axes>"
      ],
      "image/png": "[encoded data removed]"
     },
     "metadata": {},
     "output_type": "display_data"
    }
   ],
   "execution_count": 33
  },
  {
   "metadata": {
    "ExecuteTime": {
     "end_time": "2024-08-06T14:09:48.539956Z",
     "start_time": "2024-08-06T14:09:48.431376Z"
    }
   },
   "cell_type": "code",
   "source": [
    "plt.scatter(range(N), cases)\n",
    "plt.scatter(range(N), pop);"
   ],
   "id": "19fffa4827cb467c",
   "outputs": [
    {
     "data": {
      "text/plain": [
       "<Figure size 640x480 with 1 Axes>"
      ],
      "image/png": "[encoded data removed]"
     },
     "metadata": {},
     "output_type": "display_data"
    }
   ],
   "execution_count": 34
  },
  {
   "metadata": {
    "ExecuteTime": {
     "end_time": "2024-08-06T14:10:29.138066Z",
     "start_time": "2024-08-06T14:10:28.998417Z"
    }
   },
   "cell_type": "code",
   "source": [
    "plt.scatter(range(N), cases)\n",
    "plt.scatter(range(N), pop, marker='x');"
   ],
   "id": "cc750c3e6c2ae57e",
   "outputs": [
    {
     "data": {
      "text/plain": [
       "<Figure size 640x480 with 1 Axes>"
      ],
      "image/png": "[encoded data removed]"
     },
     "metadata": {},
     "output_type": "display_data"
    }
   ],
   "execution_count": 35
  },
  {
   "metadata": {
    "ExecuteTime": {
     "end_time": "2024-08-06T14:10:52.359885Z",
     "start_time": "2024-08-06T14:10:52.234997Z"
    }
   },
   "cell_type": "code",
   "source": [
    "plt.scatter(range(N), cases, label='# of COVID cases')\n",
    "plt.scatter(range(N), pop, marker='x', label='Population')\n",
    "plt.legend();"
   ],
   "id": "9edb2ac51de3c273",
   "outputs": [
    {
     "data": {
      "text/plain": [
       "<Figure size 640x480 with 1 Axes>"
      ],
      "image/png": "[encoded data removed]"
     },
     "metadata": {},
     "output_type": "display_data"
    }
   ],
   "execution_count": 36
  },
  {
   "metadata": {
    "ExecuteTime": {
     "end_time": "2024-08-06T14:11:15.559108Z",
     "start_time": "2024-08-06T14:11:15.429077Z"
    }
   },
   "cell_type": "code",
   "source": [
    "plt.scatter(range(N), cases, label='# of COVID cases')\n",
    "plt.scatter(range(N), pop, marker='x', label='Population')\n",
    "plt.legend()\n",
    "plt.xlabel('State index')\n",
    "plt.ylabel('Number of residents or cases');"
   ],
   "id": "36a382c14285910a",
   "outputs": [
    {
     "data": {
      "text/plain": [
       "<Figure size 640x480 with 1 Axes>"
      ],
      "image/png": "[encoded data removed]"
     },
     "metadata": {},
     "output_type": "display_data"
    }
   ],
   "execution_count": 37
  },
  {
   "metadata": {
    "ExecuteTime": {
     "end_time": "2024-08-06T14:11:47.320121Z",
     "start_time": "2024-08-06T14:11:47.315978Z"
    }
   },
   "cell_type": "code",
   "source": "cases.max(), pop.max()",
   "id": "6c78b7c8a62e52a7",
   "outputs": [
    {
     "data": {
      "text/plain": [
       "(np.int64(309696), np.int64(39512223))"
      ]
     },
     "execution_count": 38,
     "metadata": {},
     "output_type": "execute_result"
    }
   ],
   "execution_count": 38
  },
  {
   "metadata": {},
   "cell_type": "markdown",
   "source": [
    "We can make a better plot showing both variables if we use a different y-axis for each\n",
    "variable. To do this, we can use Matplotlib’s plt.subplots() function to create a figure and\n",
    "a first axis, and then the plt.twinx() function to share the same x-axis but allow a new\n",
    "y-axis to be created for the second data set. Because the style of this book is to not draw\n",
    "the axis on the right side of the figure, we have to add a command to make that axis visible:"
   ],
   "id": "ed6d66753c2186d3"
  },
  {
   "metadata": {
    "ExecuteTime": {
     "end_time": "2024-08-06T14:15:58.210744Z",
     "start_time": "2024-08-06T14:15:58.061767Z"
    }
   },
   "cell_type": "code",
   "source": [
    "fig, ax = plt.subplots()\n",
    "ax.scatter(range(N), cases)\n",
    "ax2 = ax.twinx()\n",
    "ax2.scatter(range(N), pop)\n",
    "# Now make right axis visible:\n",
    "ax.spines['right'].set_visible(True);"
   ],
   "id": "fed8ea0d4afaa1de",
   "outputs": [
    {
     "data": {
      "text/plain": [
       "<Figure size 640x480 with 2 Axes>"
      ],
      "image/png": "[encoded data removed]"
     },
     "metadata": {},
     "output_type": "display_data"
    }
   ],
   "execution_count": 39
  },
  {
   "metadata": {},
   "cell_type": "markdown",
   "source": [
    "However, when we create the second set of axes, we lose the differentiation of markers.\n",
    "We can specify the marker color and type of marker symbol using the color and marker\n",
    "keywords, respectively. Matplotlib has a cycle of colors it uses to differentiate multiple\n",
    "variables plotted on the same plot. In the following code, I pass the keyword argument\n",
    "color='C1' for the second variable to tell Matplotlib to use color 1 in the cycle of colors\n",
    "(where the first variable is plotted with color 0 in the cycle). I have also added labels,\n",
    "separate legends, and improved the y axes by expressing the data in terms of millions or\n",
    "thousands:"
   ],
   "id": "ee18e2bc82b78f65"
  },
  {
   "metadata": {
    "ExecuteTime": {
     "end_time": "2024-08-06T14:16:42.589371Z",
     "start_time": "2024-08-06T14:16:42.399199Z"
    }
   },
   "cell_type": "code",
   "source": [
    "fig, ax = plt.subplots()\n",
    "ax.scatter(range(N), cases / 1000, label='No. of Cases')\n",
    "ax.set_ylabel('Number of cases (thousands)')\n",
    "ax.set_xlabel('State index')\n",
    "ax2 = ax.twinx()\n",
    "ax2.scatter(range(N), pop / 1e6, color='C1', marker='x', label='Population')\n",
    "# Now make right axis visible:\n",
    "ax.spines['right'].set_visible(True);\n",
    "ax2.set_ylabel('Population (millions)')\n",
    "ax.legend(loc=2)\n",
    "ax2.legend()\n",
    "ax.set_ylim(0, 4e2)\n",
    "ax2.set_ylim(0, 48);"
   ],
   "id": "59951f03843a4231",
   "outputs": [
    {
     "data": {
      "text/plain": [
       "<Figure size 640x480 with 2 Axes>"
      ],
      "image/png": "[encoded data removed]"
     },
     "metadata": {},
     "output_type": "display_data"
    }
   ],
   "execution_count": 41
  },
  {
   "metadata": {},
   "cell_type": "markdown",
   "source": [
    "The relation among these data might be more clear if the data were sorted by population.\n",
    "We can sort the rows of the dataframe by population using the dataframe’s sort() method:"
   ],
   "id": "a66ab76a3da5b513"
  },
  {
   "metadata": {
    "ExecuteTime": {
     "end_time": "2024-08-06T14:19:05.070598Z",
     "start_time": "2024-08-06T14:19:04.876338Z"
    }
   },
   "cell_type": "code",
   "source": [
    "df.sort_values('population', inplace=True)\n",
    "popS = df['population'].to_numpy()\n",
    "casesS = df['cases'].to_numpy()\n",
    "fig, ax = plt.subplots()\n",
    "ax.scatter(range(N), casesS / 1000, label='No. of cases')\n",
    "ax.set_ylabel('Number of cases (thousands)')\n",
    "ax.set_xlabel('States sorted by increasing population')\n",
    "ax2 = ax.twinx()\n",
    "ax2.scatter(range(N), popS / 1e6, color='C1', marker='x', label='Population')\n",
    "# Now make right axis visible:\n",
    "ax.spines['right'].set_visible(True)\n",
    "ax2.set_ylabel('Population (millions)')\n",
    "ax.legend(loc=2)\n",
    "ax2.legend()\n",
    "ax.set_ylim(0, 4e2)\n",
    "ax2.set_ylim(0, 48);"
   ],
   "id": "2a48c0e5f24ab7a9",
   "outputs": [
    {
     "data": {
      "text/plain": [
       "<Figure size 640x480 with 2 Axes>"
      ],
      "image/png": "[encoded data removed]"
     },
     "metadata": {},
     "output_type": "display_data"
    }
   ],
   "execution_count": 42
  },
  {
   "metadata": {},
   "cell_type": "markdown",
   "source": [
    "The number of cases generally increases with the population of the states. We might\n",
    "make some guesses about how these two variables might be related. Such a guess is one type\n",
    "of statistical hypothesis, which is formally defined in Section 3.6. Two possible hypotheses\n",
    "about how the population of a state might affect the number of cases are:\n",
    "• Each person in the United States has the same probability of getting COVID-19. Thus,\n",
    "the number of cases per state should increase in proportion to the state’s population.\n",
    "• The probability of getting COVID-19 increases with the population of a state because\n",
    "of what are known as network effects: there is an increasing amount of mixing among\n",
    "the people within the state. Then the number of cases per state should increase with\n",
    "population even faster than under the previous assumption.\n",
    "Of course, there may be many other hypotheses that explain this relationship. In the\n",
    "remainder of this chapter, we will try to remove some of the underlying effects of different\n",
    "state populations by normalizing the number of COVID-19 cases and state GDP on a per\n",
    "capita basis. Let’s look at how we would do this within our Pandas dataframe. We can\n",
    "create a new column of our dataframe by simply assigning to it. Here, we just use functions\n",
    "of our other dataframe columns:"
   ],
   "id": "84f5a84f02bb1e42"
  },
  {
   "metadata": {
    "ExecuteTime": {
     "end_time": "2024-08-06T14:25:35.992589Z",
     "start_time": "2024-08-06T14:25:35.982608Z"
    }
   },
   "cell_type": "code",
   "source": [
    "df['cases_pp'] = df['cases'] / df['population']\n",
    "df.head()"
   ],
   "id": "ac1eab25c872409d",
   "outputs": [
    {
     "data": {
      "text/plain": [
       "              cases  population      gdp  urban  cases_pp\n",
       "state                                                    \n",
       "Wyoming         559      578759  40764.3  64.76  0.000966\n",
       "Vermont         866      623989  34320.2  38.90  0.001388\n",
       "Alaska          353      731545  54674.7  66.02  0.000483\n",
       "North Dakota   1067      762062  57471.9  59.90  0.001400\n",
       "South Dakota   2450      884659  56051.9  56.65  0.002769"
      ],
      "text/html": [
       "<div>\n",
       "<style scoped>\n",
       "    .dataframe tbody tr th:only-of-type {\n",
       "        vertical-align: middle;\n",
       "    }\n",
       "\n",
       "    .dataframe tbody tr th {\n",
       "        vertical-align: top;\n",
       "    }\n",
       "\n",
       "    .dataframe thead th {\n",
       "        text-align: right;\n",
       "    }\n",
       "</style>\n",
       "<table border=\"1\" class=\"dataframe\">\n",
       "  <thead>\n",
       "    <tr style=\"text-align: right;\">\n",
       "      <th></th>\n",
       "      <th>cases</th>\n",
       "      <th>population</th>\n",
       "      <th>gdp</th>\n",
       "      <th>urban</th>\n",
       "      <th>cases_pp</th>\n",
       "    </tr>\n",
       "    <tr>\n",
       "      <th>state</th>\n",
       "      <th></th>\n",
       "      <th></th>\n",
       "      <th></th>\n",
       "      <th></th>\n",
       "      <th></th>\n",
       "    </tr>\n",
       "  </thead>\n",
       "  <tbody>\n",
       "    <tr>\n",
       "      <th>Wyoming</th>\n",
       "      <td>559</td>\n",
       "      <td>578759</td>\n",
       "      <td>40764.3</td>\n",
       "      <td>64.76</td>\n",
       "      <td>0.000966</td>\n",
       "    </tr>\n",
       "    <tr>\n",
       "      <th>Vermont</th>\n",
       "      <td>866</td>\n",
       "      <td>623989</td>\n",
       "      <td>34320.2</td>\n",
       "      <td>38.90</td>\n",
       "      <td>0.001388</td>\n",
       "    </tr>\n",
       "    <tr>\n",
       "      <th>Alaska</th>\n",
       "      <td>353</td>\n",
       "      <td>731545</td>\n",
       "      <td>54674.7</td>\n",
       "      <td>66.02</td>\n",
       "      <td>0.000483</td>\n",
       "    </tr>\n",
       "    <tr>\n",
       "      <th>North Dakota</th>\n",
       "      <td>1067</td>\n",
       "      <td>762062</td>\n",
       "      <td>57471.9</td>\n",
       "      <td>59.90</td>\n",
       "      <td>0.001400</td>\n",
       "    </tr>\n",
       "    <tr>\n",
       "      <th>South Dakota</th>\n",
       "      <td>2450</td>\n",
       "      <td>884659</td>\n",
       "      <td>56051.9</td>\n",
       "      <td>56.65</td>\n",
       "      <td>0.002769</td>\n",
       "    </tr>\n",
       "  </tbody>\n",
       "</table>\n",
       "</div>"
      ]
     },
     "execution_count": 43,
     "metadata": {},
     "output_type": "execute_result"
    }
   ],
   "execution_count": 43
  },
  {
   "metadata": {
    "ExecuteTime": {
     "end_time": "2024-08-06T14:26:12.516960Z",
     "start_time": "2024-08-06T14:26:12.382757Z"
    }
   },
   "cell_type": "code",
   "source": [
    "df['gdp_pp'] = df['gdp'] / df['population']\n",
    "cases_pp = df['cases_pp'].to_numpy()\n",
    "gdp_pp = df['gdp_pp'].to_numpy()\n",
    "plt.scatter(range(N), cases_pp);"
   ],
   "id": "97331febcb788c17",
   "outputs": [
    {
     "data": {
      "text/plain": [
       "<Figure size 640x480 with 1 Axes>"
      ],
      "image/png": "[encoded data removed]"
     },
     "metadata": {},
     "output_type": "display_data"
    }
   ],
   "execution_count": 44
  },
  {
   "metadata": {},
   "cell_type": "markdown",
   "source": [
    "Even with this adjustment, we see that there are some states that have COVID rates\n",
    "that are very different than most of the other states. One reason for using scatter plots\n",
    "early in data analysis is to help identify any outliers:\n",
    "Definition\n",
    "outlier\n",
    "A value in a data set that takes on a value that is not reasonable, based on the\n",
    "other values in the dataset or other domain knowledge. Outliers are often due\n",
    "to data-entry, measurement, or unit-conversion errors.\n",
    "We often start data visualization with scatter plots because, unlike histograms, scatter\n",
    "plots show the whole data and are helpful in spotting outliers.\n",
    "Let’s re-sort the dataframe based on our new cases_pp column, and we will pass it the\n",
    "keyword argument ascending=False to put the highest cases per population first:"
   ],
   "id": "afbe86a87fd5d441"
  },
  {
   "metadata": {
    "ExecuteTime": {
     "end_time": "2024-08-06T15:11:39.535287Z",
     "start_time": "2024-08-06T15:11:39.526222Z"
    }
   },
   "cell_type": "code",
   "source": [
    "df.sort_values('cases_pp', inplace=True, ascending=False)\n",
    "df.head()"
   ],
   "id": "e3bbb343c8b7e788",
   "outputs": [
    {
     "data": {
      "text/plain": [
       "                cases  population        gdp  urban  cases_pp    gdp_pp\n",
       "state                                                                  \n",
       "New York       309696    19453561  1791566.8  87.87  0.015920  0.092095\n",
       "New Jersey     118652     8882190   642967.7  94.68  0.013358  0.072388\n",
       "Massachusetts   62205     6892503   603209.6  91.97  0.009025  0.087517\n",
       "Rhode Island     8621     1059361    62335.4  90.73  0.008138  0.058842\n",
       "Connecticut     27700     3565287   290703.0  87.99  0.007769  0.081537"
      ],
      "text/html": [
       "<div>\n",
       "<style scoped>\n",
       "    .dataframe tbody tr th:only-of-type {\n",
       "        vertical-align: middle;\n",
       "    }\n",
       "\n",
       "    .dataframe tbody tr th {\n",
       "        vertical-align: top;\n",
       "    }\n",
       "\n",
       "    .dataframe thead th {\n",
       "        text-align: right;\n",
       "    }\n",
       "</style>\n",
       "<table border=\"1\" class=\"dataframe\">\n",
       "  <thead>\n",
       "    <tr style=\"text-align: right;\">\n",
       "      <th></th>\n",
       "      <th>cases</th>\n",
       "      <th>population</th>\n",
       "      <th>gdp</th>\n",
       "      <th>urban</th>\n",
       "      <th>cases_pp</th>\n",
       "      <th>gdp_pp</th>\n",
       "    </tr>\n",
       "    <tr>\n",
       "      <th>state</th>\n",
       "      <th></th>\n",
       "      <th></th>\n",
       "      <th></th>\n",
       "      <th></th>\n",
       "      <th></th>\n",
       "      <th></th>\n",
       "    </tr>\n",
       "  </thead>\n",
       "  <tbody>\n",
       "    <tr>\n",
       "      <th>New York</th>\n",
       "      <td>309696</td>\n",
       "      <td>19453561</td>\n",
       "      <td>1791566.8</td>\n",
       "      <td>87.87</td>\n",
       "      <td>0.015920</td>\n",
       "      <td>0.092095</td>\n",
       "    </tr>\n",
       "    <tr>\n",
       "      <th>New Jersey</th>\n",
       "      <td>118652</td>\n",
       "      <td>8882190</td>\n",
       "      <td>642967.7</td>\n",
       "      <td>94.68</td>\n",
       "      <td>0.013358</td>\n",
       "      <td>0.072388</td>\n",
       "    </tr>\n",
       "    <tr>\n",
       "      <th>Massachusetts</th>\n",
       "      <td>62205</td>\n",
       "      <td>6892503</td>\n",
       "      <td>603209.6</td>\n",
       "      <td>91.97</td>\n",
       "      <td>0.009025</td>\n",
       "      <td>0.087517</td>\n",
       "    </tr>\n",
       "    <tr>\n",
       "      <th>Rhode Island</th>\n",
       "      <td>8621</td>\n",
       "      <td>1059361</td>\n",
       "      <td>62335.4</td>\n",
       "      <td>90.73</td>\n",
       "      <td>0.008138</td>\n",
       "      <td>0.058842</td>\n",
       "    </tr>\n",
       "    <tr>\n",
       "      <th>Connecticut</th>\n",
       "      <td>27700</td>\n",
       "      <td>3565287</td>\n",
       "      <td>290703.0</td>\n",
       "      <td>87.99</td>\n",
       "      <td>0.007769</td>\n",
       "      <td>0.081537</td>\n",
       "    </tr>\n",
       "  </tbody>\n",
       "</table>\n",
       "</div>"
      ]
     },
     "execution_count": 45,
     "metadata": {},
     "output_type": "execute_result"
    }
   ],
   "execution_count": 45
  }
 ],
 "metadata": {
  "kernelspec": {
   "display_name": "Python 3",
   "language": "python",
   "name": "python3"
  },
  "language_info": {
   "codemirror_mode": {
    "name": "ipython",
    "version": 2
   },
   "file_extension": ".py",
   "mimetype": "text/x-python",
   "name": "python",
   "nbconvert_exporter": "python",
   "pygments_lexer": "ipython2",
   "version": "2.7.6"
  }
 },
 "nbformat": 4,
 "nbformat_minor": 5
}

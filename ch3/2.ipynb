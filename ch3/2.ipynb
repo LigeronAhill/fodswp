{
 "cells": [
  {
   "metadata": {},
   "cell_type": "markdown",
   "source": [
    "Most people use the average of the data as the standard summary statistic; for instance,\n",
    "when receiving their exam scores, students will usually ask what the class average was for\n",
    "the exam. The average is also the most commonly used summary statistic by data scientists.\n",
    "Most statisticians use the term sample mean for this statistic and often refer to it as simply\n",
    "the mean. However, using the term mean to refer to the average of a set of numbers can\n",
    "create confusion with another type of mean for random data: the ensemble mean, which\n",
    "is also usually just called the mean. The ensemble mean is introduced in Chapter 9.\n",
    "Because of this ambiguity in the meaning of the word mean, I will use the terms average\n",
    "or sample mean to refer to the value that is computed from data.\n",
    "When teaching a class on this subject, I usually ask the class: “What does the average\n",
    "or sample mean mean?”. Here are some of the common answers:\n",
    "1. The value that most of the data values are centered around\n",
    "2. The value that is most likely to occur\n",
    "3. The value that has minimum distance from every value\n",
    "4. The value that divides the data into two sets of equal size\n",
    "Only one of these descriptions of the average is always accurate, and even then, the\n",
    "description is ambiguous.\n",
    "To understand average (and also some other summary statistics), we first have to un\u0002derstand that representing data by a summary statistic results in errors, and we can use\n",
    "these errors to help choose a “good” summary statistic. Let d0, d1,...,dN−1 be a set of\n",
    "numerical data values, and let ν be a summary statistic. The error ei between data value\n",
    "di and ν is simply ei = di − ν. Note that the error may be positive or negative. Intuitively,\n",
    "we should try to choose ν to minimize the errors to the data. However, how to do this is\n",
    "not entirely clear because we have many different errors, and if we adjust the value of ν to\n",
    "decrease the error to one data value, that may increase the error to another data value."
   ],
   "id": "a5af343f3402e947"
  },
  {
   "metadata": {},
   "cell_type": "markdown",
   "source": [
    "The typical way to overcome this problem is to combine the errors in some way to create\n",
    "a single numerical value. Below I show some possible choices of functions for combining\n",
    "the errors. Since the errors depend on the choice of summary statistic, ν, we write these\n",
    "combinations as functions of ν:"
   ],
   "id": "ef5f5e022412caa4"
  },
  {
   "metadata": {},
   "cell_type": "markdown",
   "source": [
    "1. Sum of errors:\n",
    "Es(ν) =\n",
    "N−1\n",
    "\u001F\n",
    "i=0\n",
    "ei\n",
    "2. Number of nonzero error values:\n",
    "E0(ν) =\n",
    "N−1\n",
    "\u001F\n",
    "i=0\n",
    "1R−{0}(ei)\n",
    "Here, the indicator function 1R−{0}(ei) will return 1 for any nonzero errors.\n",
    "3. Sum of absolute errors:\n",
    "E1(ν) =\n",
    "N−1\n",
    "\u001F\n",
    "i=0\n",
    "|ei|\n",
    "4. Sum of squared errors:\n",
    "E2(ν) =\n",
    "N−1\n",
    "\u001F\n",
    "i=0\n",
    "(ei)\n",
    "2\n",
    "The code below calculates each of these error functions as the value of ν is varied, using\n",
    "a simple data set: D = {−1, −1, 0, 2, 5}:"
   ],
   "id": "3e45d7c5c0ecc688"
  },
  {
   "metadata": {
    "ExecuteTime": {
     "end_time": "2024-08-06T15:16:21.533763Z",
     "start_time": "2024-08-06T15:16:21.459377Z"
    }
   },
   "cell_type": "code",
   "source": [
    "import numpy as np\n",
    "\n",
    "# The data:\n",
    "D = [-1, -1, 0, 2, 5]\n",
    "# Sweep the value of nu from -2 to 6\n",
    "nus = np.arange(-2, 6.01, 0.01)\n",
    "# For clarity, store the different error metrics in different variables.\n",
    "# Initialize them here\n",
    "sum_errors = 0\n",
    "num_nonzero_errors = 0\n",
    "sum_abs_errors = 0\n",
    "sum_square_errors = 0\n",
    "# Calculate the error metrics\n",
    "for d in D:\n",
    "    sum_errors += d - nus\n",
    "    num_nonzero_errors += (d - nus) != 0\n",
    "    sum_abs_errors += np.abs(d - nus)\n",
    "    sum_square_errors += (d - nus) ** 2"
   ],
   "id": "e66e6d297dc92c78",
   "outputs": [],
   "execution_count": 1
  },
  {
   "metadata": {
    "ExecuteTime": {
     "end_time": "2024-08-06T15:17:05.747030Z",
     "start_time": "2024-08-06T15:17:05.743183Z"
    }
   },
   "cell_type": "code",
   "source": [
    "nu_e = nus[np.argmin(sum_errors)]\n",
    "nu_0 = nus[np.argmin(num_nonzero_errors)]\n",
    "nu_1 = nus[np.argmin(sum_abs_errors)]\n",
    "nu_2 = nus[np.argmin(sum_square_errors)]"
   ],
   "id": "e6d0093e22275e25",
   "outputs": [],
   "execution_count": 2
  },
  {
   "metadata": {},
   "cell_type": "markdown",
   "source": [
    "Interestingly, even for this very small data set, each of these error metrics results in a\n",
    "different minimizing value of ν on the range ν ∈ [−2, 6]. None of these metrics is inherently\n",
    "“correct” – although we explain below why one of them is not useful.\n",
    "From inspecting the graph and further thought, we can make the following observations:\n",
    "1. The sum of errors decreases without bound as a function of ν. Thus, there is\n",
    "no minimizing value of ν if ν can be any real value. Because of this, the sum of\n",
    "errors is not useful in determining a summary statistic.\n",
    "2. The number of nonzero errors is equal to the total number of data values, except\n",
    "at each of the data values. The number of nonzero errors at a data value is equal Zoomed in view of two error functions comparing a summary statistic ν to a data set. Data\n",
    "are shown as stars.\n",
    "to the number of other data values. This metric will be minimized by setting ν\n",
    "equal to one of the data values that appears the most in the data set.\n",
    "3. The sum of absolute errors is a continuous, piecewise-linear function. Further\u0002more, the linear segments connect between data values, between the minimum\n",
    "data value and −∞, and between the maximum data value and +∞. It is not\n",
    "hard to see that the absolute error will increase linearly as ν is decreased from\n",
    "the minimum data value or increased from the maximum data value. For such\n",
    "a function, the minimizing value will be at one of the values where the linear\n",
    "segments intersect, which is at one of the data values.\n",
    "4. The sum of squared errors is a parabola. For this example, the minimum is not\n",
    "at one of the data values.\n",
    "In the subsections below, we use the metrics E0, E1, and E2 to define three common\n",
    "summary statistics."
   ],
   "id": "d89561723ba01158"
  },
  {
   "metadata": {
    "ExecuteTime": {
     "end_time": "2024-08-06T15:18:24.635401Z",
     "start_time": "2024-08-06T15:18:24.289132Z"
    }
   },
   "cell_type": "code",
   "source": [
    "import pandas as pd\n",
    "\n",
    "df = pd.DataFrame(D)\n",
    "df"
   ],
   "id": "5d4621159c2083d3",
   "outputs": [
    {
     "data": {
      "text/plain": [
       "   0\n",
       "0 -1\n",
       "1 -1\n",
       "2  0\n",
       "3  2\n",
       "4  5"
      ],
      "text/html": [
       "<div>\n",
       "<style scoped>\n",
       "    .dataframe tbody tr th:only-of-type {\n",
       "        vertical-align: middle;\n",
       "    }\n",
       "\n",
       "    .dataframe tbody tr th {\n",
       "        vertical-align: top;\n",
       "    }\n",
       "\n",
       "    .dataframe thead th {\n",
       "        text-align: right;\n",
       "    }\n",
       "</style>\n",
       "<table border=\"1\" class=\"dataframe\">\n",
       "  <thead>\n",
       "    <tr style=\"text-align: right;\">\n",
       "      <th></th>\n",
       "      <th>0</th>\n",
       "    </tr>\n",
       "  </thead>\n",
       "  <tbody>\n",
       "    <tr>\n",
       "      <th>0</th>\n",
       "      <td>-1</td>\n",
       "    </tr>\n",
       "    <tr>\n",
       "      <th>1</th>\n",
       "      <td>-1</td>\n",
       "    </tr>\n",
       "    <tr>\n",
       "      <th>2</th>\n",
       "      <td>0</td>\n",
       "    </tr>\n",
       "    <tr>\n",
       "      <th>3</th>\n",
       "      <td>2</td>\n",
       "    </tr>\n",
       "    <tr>\n",
       "      <th>4</th>\n",
       "      <td>5</td>\n",
       "    </tr>\n",
       "  </tbody>\n",
       "</table>\n",
       "</div>"
      ]
     },
     "execution_count": 3,
     "metadata": {},
     "output_type": "execute_result"
    }
   ],
   "execution_count": 3
  },
  {
   "metadata": {
    "ExecuteTime": {
     "end_time": "2024-08-06T15:21:28.595091Z",
     "start_time": "2024-08-06T15:21:28.085301Z"
    }
   },
   "cell_type": "code",
   "source": [
    "import scipy.stats as stats\n",
    "\n",
    "stats.mode(D, keepdims=False)\n",
    "stats.mode(D, keepdims=False)[0]"
   ],
   "id": "dd3f147c1d6b84f7",
   "outputs": [
    {
     "data": {
      "text/plain": [
       "np.int64(-1)"
      ]
     },
     "execution_count": 4,
     "metadata": {},
     "output_type": "execute_result"
    }
   ],
   "execution_count": 4
  },
  {
   "metadata": {
    "ExecuteTime": {
     "end_time": "2024-08-06T15:21:59.715547Z",
     "start_time": "2024-08-06T15:21:59.711112Z"
    }
   },
   "cell_type": "code",
   "source": "np.median(D)",
   "id": "dc2395c47e0b68c7",
   "outputs": [
    {
     "data": {
      "text/plain": [
       "np.float64(0.0)"
      ]
     },
     "execution_count": 5,
     "metadata": {},
     "output_type": "execute_result"
    }
   ],
   "execution_count": 5
  },
  {
   "metadata": {
    "ExecuteTime": {
     "end_time": "2024-08-06T15:22:08.148648Z",
     "start_time": "2024-08-06T15:22:08.143356Z"
    }
   },
   "cell_type": "code",
   "source": "df.median()",
   "id": "732445543aa33261",
   "outputs": [
    {
     "data": {
      "text/plain": [
       "0    0.0\n",
       "dtype: float64"
      ]
     },
     "execution_count": 6,
     "metadata": {},
     "output_type": "execute_result"
    }
   ],
   "execution_count": 6
  },
  {
   "metadata": {
    "ExecuteTime": {
     "end_time": "2024-08-06T15:22:22.386097Z",
     "start_time": "2024-08-06T15:22:22.381993Z"
    }
   },
   "cell_type": "code",
   "source": "np.mean(D)",
   "id": "e9e7ed7162af8662",
   "outputs": [
    {
     "data": {
      "text/plain": [
       "np.float64(1.0)"
      ]
     },
     "execution_count": 7,
     "metadata": {},
     "output_type": "execute_result"
    }
   ],
   "execution_count": 7
  },
  {
   "metadata": {
    "ExecuteTime": {
     "end_time": "2024-08-06T15:22:31.074293Z",
     "start_time": "2024-08-06T15:22:31.069258Z"
    }
   },
   "cell_type": "code",
   "source": "df.mean()",
   "id": "73b240c14b1e1936",
   "outputs": [
    {
     "data": {
      "text/plain": [
       "0    1.0\n",
       "dtype: float64"
      ]
     },
     "execution_count": 8,
     "metadata": {},
     "output_type": "execute_result"
    }
   ],
   "execution_count": 8
  },
  {
   "metadata": {
    "ExecuteTime": {
     "end_time": "2024-08-06T15:23:39.887101Z",
     "start_time": "2024-08-06T15:23:39.884488Z"
    }
   },
   "cell_type": "code",
   "source": "D3 = D + [100]",
   "id": "87bf210c732fcf29",
   "outputs": [],
   "execution_count": 9
  },
  {
   "metadata": {
    "ExecuteTime": {
     "end_time": "2024-08-06T15:23:48.042159Z",
     "start_time": "2024-08-06T15:23:48.038502Z"
    }
   },
   "cell_type": "code",
   "source": "np.mean(D3)",
   "id": "d5e13e1c0c6ff456",
   "outputs": [
    {
     "data": {
      "text/plain": [
       "np.float64(17.5)"
      ]
     },
     "execution_count": 10,
     "metadata": {},
     "output_type": "execute_result"
    }
   ],
   "execution_count": 10
  },
  {
   "metadata": {
    "ExecuteTime": {
     "end_time": "2024-08-06T15:23:55.585171Z",
     "start_time": "2024-08-06T15:23:55.580680Z"
    }
   },
   "cell_type": "code",
   "source": "np.median(D3)",
   "id": "e5a23e2cf9298fc8",
   "outputs": [
    {
     "data": {
      "text/plain": [
       "np.float64(1.0)"
      ]
     },
     "execution_count": 11,
     "metadata": {},
     "output_type": "execute_result"
    }
   ],
   "execution_count": 11
  }
 ],
 "metadata": {
  "kernelspec": {
   "display_name": "Python 3",
   "language": "python",
   "name": "python3"
  },
  "language_info": {
   "codemirror_mode": {
    "name": "ipython",
    "version": 2
   },
   "file_extension": ".py",
   "mimetype": "text/x-python",
   "name": "python",
   "nbconvert_exporter": "python",
   "pygments_lexer": "ipython2",
   "version": "2.7.6"
  }
 },
 "nbformat": 4,
 "nbformat_minor": 5
}

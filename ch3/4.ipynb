{
 "cells": [
  {
   "cell_type": "code",
   "id": "initial_id",
   "metadata": {
    "collapsed": true,
    "ExecuteTime": {
     "end_time": "2024-08-08T05:00:45.020976Z",
     "start_time": "2024-08-08T05:00:44.151633Z"
    }
   },
   "source": [
    "import pandas as pd\n",
    "\n",
    "df = pd.read_csv('https://www.fdsp.net/data/covid-merged.csv')\n",
    "df.set_index('state', inplace=True)\n",
    "df['cases_norm'] = df['cases'] / df['population'] * 1000\n",
    "df['gdp_norm'] = df['gdp'] / df['population'] * 1000;"
   ],
   "outputs": [],
   "execution_count": 1
  },
  {
   "cell_type": "code",
   "id": "bd2e7ac30d8b6800",
   "metadata": {
    "ExecuteTime": {
     "end_time": "2024-08-08T05:00:45.066722Z",
     "start_time": "2024-08-08T05:00:45.054981Z"
    }
   },
   "source": [
    "first3 = df.loc[:'Arizona']\n",
    "first3"
   ],
   "outputs": [
    {
     "data": {
      "text/plain": [
       "         cases  population       gdp  urban  cases_norm   gdp_norm\n",
       "state                                                             \n",
       "Alabama   7068     4903185  230750.1  59.04    1.441512  47.061267\n",
       "Alaska     353      731545   54674.7  66.02    0.482540  74.738670\n",
       "Arizona   7648     7278717  379018.8  89.81    1.050735  52.072199"
      ],
      "text/html": [
       "<div>\n",
       "<style scoped>\n",
       "    .dataframe tbody tr th:only-of-type {\n",
       "        vertical-align: middle;\n",
       "    }\n",
       "\n",
       "    .dataframe tbody tr th {\n",
       "        vertical-align: top;\n",
       "    }\n",
       "\n",
       "    .dataframe thead th {\n",
       "        text-align: right;\n",
       "    }\n",
       "</style>\n",
       "<table border=\"1\" class=\"dataframe\">\n",
       "  <thead>\n",
       "    <tr style=\"text-align: right;\">\n",
       "      <th></th>\n",
       "      <th>cases</th>\n",
       "      <th>population</th>\n",
       "      <th>gdp</th>\n",
       "      <th>urban</th>\n",
       "      <th>cases_norm</th>\n",
       "      <th>gdp_norm</th>\n",
       "    </tr>\n",
       "    <tr>\n",
       "      <th>state</th>\n",
       "      <th></th>\n",
       "      <th></th>\n",
       "      <th></th>\n",
       "      <th></th>\n",
       "      <th></th>\n",
       "      <th></th>\n",
       "    </tr>\n",
       "  </thead>\n",
       "  <tbody>\n",
       "    <tr>\n",
       "      <th>Alabama</th>\n",
       "      <td>7068</td>\n",
       "      <td>4903185</td>\n",
       "      <td>230750.1</td>\n",
       "      <td>59.04</td>\n",
       "      <td>1.441512</td>\n",
       "      <td>47.061267</td>\n",
       "    </tr>\n",
       "    <tr>\n",
       "      <th>Alaska</th>\n",
       "      <td>353</td>\n",
       "      <td>731545</td>\n",
       "      <td>54674.7</td>\n",
       "      <td>66.02</td>\n",
       "      <td>0.482540</td>\n",
       "      <td>74.738670</td>\n",
       "    </tr>\n",
       "    <tr>\n",
       "      <th>Arizona</th>\n",
       "      <td>7648</td>\n",
       "      <td>7278717</td>\n",
       "      <td>379018.8</td>\n",
       "      <td>89.81</td>\n",
       "      <td>1.050735</td>\n",
       "      <td>52.072199</td>\n",
       "    </tr>\n",
       "  </tbody>\n",
       "</table>\n",
       "</div>"
      ]
     },
     "execution_count": 2,
     "metadata": {},
     "output_type": "execute_result"
    }
   ],
   "execution_count": 2
  },
  {
   "cell_type": "code",
   "id": "2726453ff7779af",
   "metadata": {
    "ExecuteTime": {
     "end_time": "2024-08-08T05:00:45.453282Z",
     "start_time": "2024-08-08T05:00:45.444345Z"
    }
   },
   "source": [
    "second3 = df.loc['Arkansas':'Colorado']\n",
    "second3"
   ],
   "outputs": [
    {
     "data": {
      "text/plain": [
       "            cases  population        gdp  urban  cases_norm   gdp_norm\n",
       "state                                                                 \n",
       "Arkansas     3281     3017804   132596.4  56.16    1.087214  43.938042\n",
       "California  50470    39512223  3205000.1  94.95    1.277326  81.114143\n",
       "Colorado    15207     5758736   400863.4  86.15    2.640684  69.609616"
      ],
      "text/html": [
       "<div>\n",
       "<style scoped>\n",
       "    .dataframe tbody tr th:only-of-type {\n",
       "        vertical-align: middle;\n",
       "    }\n",
       "\n",
       "    .dataframe tbody tr th {\n",
       "        vertical-align: top;\n",
       "    }\n",
       "\n",
       "    .dataframe thead th {\n",
       "        text-align: right;\n",
       "    }\n",
       "</style>\n",
       "<table border=\"1\" class=\"dataframe\">\n",
       "  <thead>\n",
       "    <tr style=\"text-align: right;\">\n",
       "      <th></th>\n",
       "      <th>cases</th>\n",
       "      <th>population</th>\n",
       "      <th>gdp</th>\n",
       "      <th>urban</th>\n",
       "      <th>cases_norm</th>\n",
       "      <th>gdp_norm</th>\n",
       "    </tr>\n",
       "    <tr>\n",
       "      <th>state</th>\n",
       "      <th></th>\n",
       "      <th></th>\n",
       "      <th></th>\n",
       "      <th></th>\n",
       "      <th></th>\n",
       "      <th></th>\n",
       "    </tr>\n",
       "  </thead>\n",
       "  <tbody>\n",
       "    <tr>\n",
       "      <th>Arkansas</th>\n",
       "      <td>3281</td>\n",
       "      <td>3017804</td>\n",
       "      <td>132596.4</td>\n",
       "      <td>56.16</td>\n",
       "      <td>1.087214</td>\n",
       "      <td>43.938042</td>\n",
       "    </tr>\n",
       "    <tr>\n",
       "      <th>California</th>\n",
       "      <td>50470</td>\n",
       "      <td>39512223</td>\n",
       "      <td>3205000.1</td>\n",
       "      <td>94.95</td>\n",
       "      <td>1.277326</td>\n",
       "      <td>81.114143</td>\n",
       "    </tr>\n",
       "    <tr>\n",
       "      <th>Colorado</th>\n",
       "      <td>15207</td>\n",
       "      <td>5758736</td>\n",
       "      <td>400863.4</td>\n",
       "      <td>86.15</td>\n",
       "      <td>2.640684</td>\n",
       "      <td>69.609616</td>\n",
       "    </tr>\n",
       "  </tbody>\n",
       "</table>\n",
       "</div>"
      ]
     },
     "execution_count": 3,
     "metadata": {},
     "output_type": "execute_result"
    }
   ],
   "execution_count": 3
  },
  {
   "cell_type": "code",
   "id": "a4f7f3082982c608",
   "metadata": {
    "ExecuteTime": {
     "end_time": "2024-08-08T05:00:45.544898Z",
     "start_time": "2024-08-08T05:00:45.540611Z"
    }
   },
   "source": [
    "first3['cases_norm'].mean()"
   ],
   "outputs": [
    {
     "data": {
      "text/plain": [
       "np.float64(0.9915956672540028)"
      ]
     },
     "execution_count": 4,
     "metadata": {},
     "output_type": "execute_result"
    }
   ],
   "execution_count": 4
  },
  {
   "cell_type": "code",
   "id": "2a6d4d5f6cc6d04",
   "metadata": {
    "ExecuteTime": {
     "end_time": "2024-08-08T05:00:45.811070Z",
     "start_time": "2024-08-08T05:00:45.806928Z"
    }
   },
   "source": [
    "second3['cases_norm'].mean()"
   ],
   "outputs": [
    {
     "data": {
      "text/plain": [
       "np.float64(1.6684081069437913)"
      ]
     },
     "execution_count": 5,
     "metadata": {},
     "output_type": "execute_result"
    }
   ],
   "execution_count": 5
  },
  {
   "cell_type": "code",
   "id": "aad90d5c4911bc1d",
   "metadata": {
    "ExecuteTime": {
     "end_time": "2024-08-08T05:00:46.041264Z",
     "start_time": "2024-08-08T05:00:46.037322Z"
    }
   },
   "source": [
    "diff = second3['cases_norm'].mean() - first3['cases_norm'].mean()\n",
    "diff"
   ],
   "outputs": [
    {
     "data": {
      "text/plain": [
       "np.float64(0.6768124396897884)"
      ]
     },
     "execution_count": 6,
     "metadata": {},
     "output_type": "execute_result"
    }
   ],
   "execution_count": 6
  },
  {
   "cell_type": "code",
   "id": "aa242b0abf353260",
   "metadata": {
    "ExecuteTime": {
     "end_time": "2024-08-08T05:00:46.201823Z",
     "start_time": "2024-08-08T05:00:46.196824Z"
    }
   },
   "source": [
    "import numpy as np\n",
    "\n",
    "pooled = np.hstack((first3['cases_norm'], second3['cases_norm']))\n",
    "pooled"
   ],
   "outputs": [
    {
     "data": {
      "text/plain": [
       "array([1.441512  , 0.48254038, 1.05073463, 1.08721441, 1.27732626,\n",
       "       2.64068365])"
      ]
     },
     "execution_count": 7,
     "metadata": {},
     "output_type": "execute_result"
    }
   ],
   "execution_count": 7
  },
  {
   "cell_type": "code",
   "id": "97ed5a4a3a18f78f",
   "metadata": {
    "ExecuteTime": {
     "end_time": "2024-08-08T05:00:46.326355Z",
     "start_time": "2024-08-08T05:00:46.322304Z"
    }
   },
   "source": [
    "import numpy.random as npr\n",
    "\n",
    "npr.seed(21341)\n",
    "npr.choice(pooled, 3)"
   ],
   "outputs": [
    {
     "data": {
      "text/plain": [
       "array([1.05073463, 1.05073463, 2.64068365])"
      ]
     },
     "execution_count": 8,
     "metadata": {},
     "output_type": "execute_result"
    }
   ],
   "execution_count": 8
  },
  {
   "cell_type": "code",
   "id": "5cf70b24359347d8",
   "metadata": {
    "ExecuteTime": {
     "end_time": "2024-08-08T05:00:46.576466Z",
     "start_time": "2024-08-08T05:00:46.572739Z"
    }
   },
   "source": [
    "npr.seed(21398475)\n",
    "print(npr.choice(pooled, 6))\n",
    "print(npr.choice(pooled, 6, replace=False))"
   ],
   "outputs": [
    {
     "name": "stdout",
     "output_type": "stream",
     "text": [
      "[1.27732626 0.48254038 1.05073463 1.27732626 1.27732626 0.48254038]\n",
      "[1.05073463 1.27732626 1.08721441 0.48254038 1.441512   2.64068365]\n"
     ]
    }
   ],
   "execution_count": 9
  },
  {
   "cell_type": "code",
   "id": "aafc77b5dd0b0876",
   "metadata": {
    "ExecuteTime": {
     "end_time": "2024-08-08T05:00:46.649348Z",
     "start_time": "2024-08-08T05:00:46.645098Z"
    }
   },
   "source": [
    "first3_sample = npr.choice(pooled, len(first3))\n",
    "second3_sample = npr.choice(pooled, len(second3))\n",
    "print(f'new group first3_sample: {first3_sample}')\n",
    "print(f'new group second3_sample: {second3_sample}')\n",
    "\n",
    "print(f'original value of test statistic: {diff}')\n",
    "print(f'sample value of test statistic: ', f'{second3_sample.mean() - first3_sample.mean()}')"
   ],
   "outputs": [
    {
     "name": "stdout",
     "output_type": "stream",
     "text": [
      "new group first3_sample: [0.48254038 2.64068365 1.05073463]\n",
      "new group second3_sample: [0.48254038 0.48254038 1.05073463]\n",
      "original value of test statistic: 0.6768124396897884\n",
      "sample value of test statistic:  -0.7193810910498654\n"
     ]
    }
   ],
   "execution_count": 10
  },
  {
   "cell_type": "code",
   "id": "65ad298913ff655f",
   "metadata": {
    "ExecuteTime": {
     "end_time": "2024-08-08T05:00:47.169052Z",
     "start_time": "2024-08-08T05:00:46.724998Z"
    }
   },
   "source": [
    "# These are common to most simulation:\n",
    "# 1) Set up the number of iterations (i.e., number of samples from the pool)\n",
    "# 2) Initialize our counter to zero\n",
    "num_sims = 10_000\n",
    "count = 0\n",
    "# Put these outside the loop to save execution time since they don't change\n",
    "# Even though we know these, it is good to get in the habit of setting\n",
    "# them dynamically from the data\n",
    "first3_len = len(first3)\n",
    "second3_len = len(second3)\n",
    "for sim in range(num_sims):\n",
    "    # Bootstrap sampling\n",
    "    first3_sample = npr.choice(pooled, first3_len)\n",
    "    second3_sample = npr.choice(pooled, second3_len)\n",
    "    # Calculate the absolute value of the difference of means\n",
    "    newdiff = abs(first3_sample.mean() - second3_sample.mean())\n",
    "    # Update the counter if it exceeds the difference from the original groups\n",
    "    if newdiff >= diff:\n",
    "        count += 1\n",
    "print('Prob. of seeing a result this extreme =~', count / num_sims)"
   ],
   "outputs": [
    {
     "name": "stdout",
     "output_type": "stream",
     "text": [
      "Prob. of seeing a result this extreme =~ 0.2039\n"
     ]
    }
   ],
   "execution_count": 11
  },
  {
   "cell_type": "code",
   "id": "fbb59dc9188c042e",
   "metadata": {
    "ExecuteTime": {
     "end_time": "2024-08-08T05:00:47.218816Z",
     "start_time": "2024-08-08T05:00:47.214067Z"
    }
   },
   "source": [
    "m_gdp = df['gdp_norm'].median()\n",
    "m_gdp"
   ],
   "outputs": [
    {
     "data": {
      "text/plain": [
       "np.float64(61.04737129841516)"
      ]
     },
     "execution_count": 12,
     "metadata": {},
     "output_type": "execute_result"
    }
   ],
   "execution_count": 12
  },
  {
   "cell_type": "code",
   "id": "ad35abed8d3ed726",
   "metadata": {
    "ExecuteTime": {
     "end_time": "2024-08-08T05:00:47.254230Z",
     "start_time": "2024-08-08T05:00:47.249629Z"
    }
   },
   "source": [
    "higher_gdp = df[df['gdp_norm'] > m_gdp]\n",
    "lower_gdp = df[df['gdp_norm'] <= m_gdp]\n",
    "hgdp_mu = higher_gdp['cases_norm'].mean()\n",
    "lgdp_mu = lower_gdp['cases_norm'].mean()"
   ],
   "outputs": [],
   "execution_count": 13
  },
  {
   "cell_type": "code",
   "id": "d5c3d6f670945672",
   "metadata": {
    "ExecuteTime": {
     "end_time": "2024-08-08T05:00:47.307621Z",
     "start_time": "2024-08-08T05:00:47.303694Z"
    }
   },
   "source": [
    "hgdp_mu, lgdp_mu"
   ],
   "outputs": [
    {
     "data": {
      "text/plain": [
       "(np.float64(3.511241636831491), np.float64(1.9258062634390531))"
      ]
     },
     "execution_count": 14,
     "metadata": {},
     "output_type": "execute_result"
    }
   ],
   "execution_count": 14
  },
  {
   "cell_type": "code",
   "id": "30f20559b74dc837",
   "metadata": {
    "ExecuteTime": {
     "end_time": "2024-08-08T05:00:47.352621Z",
     "start_time": "2024-08-08T05:00:47.348946Z"
    }
   },
   "source": [
    "diff_gdp = hgdp_mu - lgdp_mu\n",
    "diff_gdp"
   ],
   "outputs": [
    {
     "data": {
      "text/plain": [
       "np.float64(1.585435373392438)"
      ]
     },
     "execution_count": 15,
     "metadata": {},
     "output_type": "execute_result"
    }
   ],
   "execution_count": 15
  },
  {
   "cell_type": "code",
   "id": "7859496b07a96868",
   "metadata": {
    "ExecuteTime": {
     "end_time": "2024-08-08T05:00:47.420455Z",
     "start_time": "2024-08-08T05:00:47.417508Z"
    }
   },
   "source": [
    "pooled_covid = df['cases_norm']"
   ],
   "outputs": [],
   "execution_count": 16
  },
  {
   "cell_type": "code",
   "id": "5f361cc118bb9e22",
   "metadata": {
    "ExecuteTime": {
     "end_time": "2024-08-08T05:00:48.201593Z",
     "start_time": "2024-08-08T05:00:47.463670Z"
    }
   },
   "source": [
    "# These are common to most simulation:\n",
    "# 1) Set up the number of iterations (draws from the pool)\n",
    "# 2) Initialize our counter to zero\n",
    "num_sims = 10_000\n",
    "count = 0\n",
    "# Put these outside the loop to save execution time, since they don't change\n",
    "higher_gdp_len = len(higher_gdp)\n",
    "lower_gdp_len = len(lower_gdp)\n",
    "for sim in range(num_sims):\n",
    "    # Bootstrap sampling\n",
    "    higher_gdp_sample = npr.choice(pooled_covid, higher_gdp_len)\n",
    "    lower_gdp_sample = npr.choice(pooled_covid, lower_gdp_len)\n",
    "    # Calculate the absolute value of the difference of means\n",
    "    newdiff = abs(higher_gdp_sample.mean() - lower_gdp_sample.mean())\n",
    "    # Update the counter if it exceeds the difference from the original groups\n",
    "    if newdiff >= diff_gdp:\n",
    "        count += 1\n",
    "print(f'Prob. of seeing a result this extreme =~ {count / num_sims: .3f}')"
   ],
   "outputs": [
    {
     "name": "stdout",
     "output_type": "stream",
     "text": [
      "Prob. of seeing a result this extreme =~  0.075\n"
     ]
    }
   ],
   "execution_count": 17
  },
  {
   "cell_type": "code",
   "id": "5890570ec1cd47d6",
   "metadata": {
    "ExecuteTime": {
     "end_time": "2024-08-08T05:00:48.233335Z",
     "start_time": "2024-08-08T05:00:48.228917Z"
    }
   },
   "source": [
    "def resample_mean(pooled_data, diff, len1, len2, num_sims=10_000):\n",
    "    \"\"\"Resample from pooled data and conduct a two-tailed NHST\n",
    "    on the mean-difference\n",
    "    Inputs\n",
    "    ------\n",
    "    pooled_data: NumPy array of all data in the original 2 groups\n",
    "    diff: observed difference in sample means in the original groups\n",
    "    len1, len2: the lengths of the original groups\n",
    "    num_sims: the number of simulation iterations\n",
    "    Output\n",
    "    ------\n",
    "    prints resulting p-value\n",
    "    \"\"\"\n",
    "    count = 0\n",
    "    for sim in range(num_sims):\n",
    "        # Bootstrap sampling\n",
    "        group1 = npr.choice(pooled_data, len1)\n",
    "        group2 = npr.choice(pooled_data, len2)\n",
    "        # Calculate the absolute value of the difference of means\n",
    "        newdiff = abs(group1.mean() - group2.mean())\n",
    "        # Update the counter if observed difference as large as original\n",
    "        if newdiff >= diff:\n",
    "            count += 1\n",
    "    print(f'Prob. of seeing a result this extreme =~ {count / num_sims}')"
   ],
   "outputs": [],
   "execution_count": 18
  },
  {
   "cell_type": "code",
   "id": "b03d5da9",
   "metadata": {
    "ExecuteTime": {
     "end_time": "2024-08-08T05:00:48.927722Z",
     "start_time": "2024-08-08T05:00:48.259102Z"
    }
   },
   "source": [
    "resample_mean(pooled_covid, diff_gdp, len(higher_gdp), len(lower_gdp))"
   ],
   "outputs": [
    {
     "name": "stdout",
     "output_type": "stream",
     "text": [
      "Prob. of seeing a result this extreme =~ 0.0705\n"
     ]
    }
   ],
   "execution_count": 19
  },
  {
   "cell_type": "code",
   "id": "40ac513b",
   "metadata": {
    "ExecuteTime": {
     "end_time": "2024-08-08T05:00:48.962036Z",
     "start_time": "2024-08-08T05:00:48.957978Z"
    }
   },
   "source": [
    "m_urban = df[\"urban\"].median()\n",
    "higher_urban = df[df[\"urban\"] > m_urban]\n",
    "lower_urban = df[df[\"urban\"] <= m_urban]"
   ],
   "outputs": [],
   "execution_count": 20
  },
  {
   "cell_type": "code",
   "id": "c169adb2",
   "metadata": {
    "ExecuteTime": {
     "end_time": "2024-08-08T05:00:48.991428Z",
     "start_time": "2024-08-08T05:00:48.987101Z"
    }
   },
   "source": [
    "higher_urban[\"cases_norm\"].mean(), lower_urban[\"cases_norm\"].mean()"
   ],
   "outputs": [
    {
     "data": {
      "text/plain": [
       "(np.float64(3.8908749904320756), np.float64(1.5461729098384682))"
      ]
     },
     "execution_count": 21,
     "metadata": {},
     "output_type": "execute_result"
    }
   ],
   "execution_count": 21
  },
  {
   "cell_type": "code",
   "id": "23648f3c",
   "metadata": {
    "ExecuteTime": {
     "end_time": "2024-08-08T05:00:49.025635Z",
     "start_time": "2024-08-08T05:00:49.021894Z"
    }
   },
   "source": [
    "diff_urban = higher_urban[\"cases_norm\"].mean() - lower_urban[\"cases_norm\"].mean()\n",
    "diff_urban"
   ],
   "outputs": [
    {
     "data": {
      "text/plain": [
       "np.float64(2.344702080593607)"
      ]
     },
     "execution_count": 22,
     "metadata": {},
     "output_type": "execute_result"
    }
   ],
   "execution_count": 22
  },
  {
   "cell_type": "code",
   "id": "0c4d86d6",
   "metadata": {
    "ExecuteTime": {
     "end_time": "2024-08-08T05:00:49.772970Z",
     "start_time": "2024-08-08T05:00:49.085157Z"
    }
   },
   "source": [
    "resample_mean(pooled_covid, diff_urban, len(higher_urban), len(lower_urban))"
   ],
   "outputs": [
    {
     "name": "stdout",
     "output_type": "stream",
     "text": [
      "Prob. of seeing a result this extreme =~ 0.01\n"
     ]
    }
   ],
   "execution_count": 23
  },
  {
   "cell_type": "code",
   "id": "3b5e718e",
   "metadata": {
    "ExecuteTime": {
     "end_time": "2024-08-08T05:00:50.171847Z",
     "start_time": "2024-08-08T05:00:49.800033Z"
    }
   },
   "source": [
    "import matplotlib.pyplot as plt\n",
    "\n",
    "\n",
    "def resample_mean_hist(pooled_data, diff, len1, len2, num_sims=10_000):\n",
    "    '''(Docstring omitted to conserve space)'''\n",
    "    count = 0\n",
    "    sample_means = []  # New variable to store sample means\n",
    "    for sim in range(num_sims):\n",
    "        # Bootstrap sampling\n",
    "        group1 = npr.choice(pooled_data, len1)\n",
    "        group2 = npr.choice(pooled_data, len2)\n",
    "        # Calculate the absolute value of the difference of means\n",
    "        newdiff = abs(group1.mean() - group2.mean())\n",
    "        sample_means += [group1.mean() - group2.mean()]  # Store sample mean\n",
    "        # Update the counter if it exceeds the difference from the original groups\n",
    "        if newdiff >= diff:\n",
    "            count += 1\n",
    "    print(f'Prob. of seeing a result this extreme =~ {count / num_sims}')\n",
    "    plt.hist(sample_means, 40)  # Plot the histogram with 40 bins"
   ],
   "outputs": [],
   "execution_count": 24
  },
  {
   "cell_type": "code",
   "id": "9c37ceeb",
   "metadata": {
    "ExecuteTime": {
     "end_time": "2024-08-08T05:00:51.071239Z",
     "start_time": "2024-08-08T05:00:50.197224Z"
    }
   },
   "source": [
    "resample_mean_hist(pooled_covid, diff_urban, len(higher_urban), len(lower_urban))"
   ],
   "outputs": [
    {
     "name": "stdout",
     "output_type": "stream",
     "text": [
      "Prob. of seeing a result this extreme =~ 0.0085\n"
     ]
    },
    {
     "data": {
      "text/plain": [
       "<Figure size 640x480 with 1 Axes>"
      ],
      "image/png": "[encoded data removed]"
     },
     "metadata": {},
     "output_type": "display_data"
    }
   ],
   "execution_count": 25
  }
 ],
 "metadata": {
  "kernelspec": {
   "display_name": "Python 3",
   "language": "python",
   "name": "python3"
  },
  "language_info": {
   "codemirror_mode": {
    "name": "ipython",
    "version": 3
   },
   "file_extension": ".py",
   "mimetype": "text/x-python",
   "name": "python",
   "nbconvert_exporter": "python",
   "pygments_lexer": "ipython3",
   "version": "3.12.2"
  }
 },
 "nbformat": 4,
 "nbformat_minor": 5
}

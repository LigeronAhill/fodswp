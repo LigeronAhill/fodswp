{
 "cells": [
  {
   "cell_type": "code",
   "id": "initial_id",
   "metadata": {
    "collapsed": true,
    "ExecuteTime": {
     "end_time": "2024-08-06T15:25:58.395639Z",
     "start_time": "2024-08-06T15:25:57.529086Z"
    }
   },
   "source": [
    "import pandas as pd\n",
    "\n",
    "df = pd.read_csv('https://www.fdsp.net/data/covid-merged.csv')\n",
    "df.set_index('state', inplace=True)\n",
    "df['cases_norm'] = df['cases'] / df['population'] * 1000"
   ],
   "outputs": [],
   "execution_count": 1
  },
  {
   "metadata": {
    "ExecuteTime": {
     "end_time": "2024-08-06T15:26:10.740971Z",
     "start_time": "2024-08-06T15:26:10.736356Z"
    }
   },
   "cell_type": "code",
   "source": "df['gdp_norm'] = df['gdp'] / df['population'] * 1000",
   "id": "e51111409a4bcbf6",
   "outputs": [],
   "execution_count": 2
  },
  {
   "metadata": {
    "ExecuteTime": {
     "end_time": "2024-08-06T15:26:20.137518Z",
     "start_time": "2024-08-06T15:26:20.131615Z"
    }
   },
   "cell_type": "code",
   "source": [
    "m_gdp = df['gdp_norm'].median()\n",
    "m_gdp"
   ],
   "id": "c973b6ee8cbd8741",
   "outputs": [
    {
     "data": {
      "text/plain": [
       "np.float64(61.04737129841516)"
      ]
     },
     "execution_count": 3,
     "metadata": {},
     "output_type": "execute_result"
    }
   ],
   "execution_count": 3
  },
  {
   "metadata": {
    "ExecuteTime": {
     "end_time": "2024-08-06T15:26:33.790002Z",
     "start_time": "2024-08-06T15:26:33.778543Z"
    }
   },
   "cell_type": "code",
   "source": [
    "higher_gdp = df.query('gdp_norm > @m_gdp')\n",
    "higher_gdp.head(3)"
   ],
   "id": "429c6ac340c5edfb",
   "outputs": [
    {
     "data": {
      "text/plain": [
       "            cases  population        gdp  urban  cases_norm   gdp_norm\n",
       "state                                                                 \n",
       "Alaska        353      731545    54674.7  66.02    0.482540  74.738670\n",
       "California  50470    39512223  3205000.1  94.95    1.277326  81.114143\n",
       "Colorado    15207     5758736   400863.4  86.15    2.640684  69.609616"
      ],
      "text/html": [
       "<div>\n",
       "<style scoped>\n",
       "    .dataframe tbody tr th:only-of-type {\n",
       "        vertical-align: middle;\n",
       "    }\n",
       "\n",
       "    .dataframe tbody tr th {\n",
       "        vertical-align: top;\n",
       "    }\n",
       "\n",
       "    .dataframe thead th {\n",
       "        text-align: right;\n",
       "    }\n",
       "</style>\n",
       "<table border=\"1\" class=\"dataframe\">\n",
       "  <thead>\n",
       "    <tr style=\"text-align: right;\">\n",
       "      <th></th>\n",
       "      <th>cases</th>\n",
       "      <th>population</th>\n",
       "      <th>gdp</th>\n",
       "      <th>urban</th>\n",
       "      <th>cases_norm</th>\n",
       "      <th>gdp_norm</th>\n",
       "    </tr>\n",
       "    <tr>\n",
       "      <th>state</th>\n",
       "      <th></th>\n",
       "      <th></th>\n",
       "      <th></th>\n",
       "      <th></th>\n",
       "      <th></th>\n",
       "      <th></th>\n",
       "    </tr>\n",
       "  </thead>\n",
       "  <tbody>\n",
       "    <tr>\n",
       "      <th>Alaska</th>\n",
       "      <td>353</td>\n",
       "      <td>731545</td>\n",
       "      <td>54674.7</td>\n",
       "      <td>66.02</td>\n",
       "      <td>0.482540</td>\n",
       "      <td>74.738670</td>\n",
       "    </tr>\n",
       "    <tr>\n",
       "      <th>California</th>\n",
       "      <td>50470</td>\n",
       "      <td>39512223</td>\n",
       "      <td>3205000.1</td>\n",
       "      <td>94.95</td>\n",
       "      <td>1.277326</td>\n",
       "      <td>81.114143</td>\n",
       "    </tr>\n",
       "    <tr>\n",
       "      <th>Colorado</th>\n",
       "      <td>15207</td>\n",
       "      <td>5758736</td>\n",
       "      <td>400863.4</td>\n",
       "      <td>86.15</td>\n",
       "      <td>2.640684</td>\n",
       "      <td>69.609616</td>\n",
       "    </tr>\n",
       "  </tbody>\n",
       "</table>\n",
       "</div>"
      ]
     },
     "execution_count": 4,
     "metadata": {},
     "output_type": "execute_result"
    }
   ],
   "execution_count": 4
  },
  {
   "metadata": {
    "ExecuteTime": {
     "end_time": "2024-08-06T15:27:02.247689Z",
     "start_time": "2024-08-06T15:27:02.238845Z"
    }
   },
   "cell_type": "code",
   "source": [
    "lower_gdp = df.query('gdp_norm <= @m_gdp')\n",
    "lower_gdp.head(3)"
   ],
   "id": "7c5e8fa4bf35c353",
   "outputs": [
    {
     "data": {
      "text/plain": [
       "          cases  population       gdp  urban  cases_norm   gdp_norm\n",
       "state                                                              \n",
       "Alabama    7068     4903185  230750.1  59.04    1.441512  47.061267\n",
       "Arizona    7648     7278717  379018.8  89.81    1.050735  52.072199\n",
       "Arkansas   3281     3017804  132596.4  56.16    1.087214  43.938042"
      ],
      "text/html": [
       "<div>\n",
       "<style scoped>\n",
       "    .dataframe tbody tr th:only-of-type {\n",
       "        vertical-align: middle;\n",
       "    }\n",
       "\n",
       "    .dataframe tbody tr th {\n",
       "        vertical-align: top;\n",
       "    }\n",
       "\n",
       "    .dataframe thead th {\n",
       "        text-align: right;\n",
       "    }\n",
       "</style>\n",
       "<table border=\"1\" class=\"dataframe\">\n",
       "  <thead>\n",
       "    <tr style=\"text-align: right;\">\n",
       "      <th></th>\n",
       "      <th>cases</th>\n",
       "      <th>population</th>\n",
       "      <th>gdp</th>\n",
       "      <th>urban</th>\n",
       "      <th>cases_norm</th>\n",
       "      <th>gdp_norm</th>\n",
       "    </tr>\n",
       "    <tr>\n",
       "      <th>state</th>\n",
       "      <th></th>\n",
       "      <th></th>\n",
       "      <th></th>\n",
       "      <th></th>\n",
       "      <th></th>\n",
       "      <th></th>\n",
       "    </tr>\n",
       "  </thead>\n",
       "  <tbody>\n",
       "    <tr>\n",
       "      <th>Alabama</th>\n",
       "      <td>7068</td>\n",
       "      <td>4903185</td>\n",
       "      <td>230750.1</td>\n",
       "      <td>59.04</td>\n",
       "      <td>1.441512</td>\n",
       "      <td>47.061267</td>\n",
       "    </tr>\n",
       "    <tr>\n",
       "      <th>Arizona</th>\n",
       "      <td>7648</td>\n",
       "      <td>7278717</td>\n",
       "      <td>379018.8</td>\n",
       "      <td>89.81</td>\n",
       "      <td>1.050735</td>\n",
       "      <td>52.072199</td>\n",
       "    </tr>\n",
       "    <tr>\n",
       "      <th>Arkansas</th>\n",
       "      <td>3281</td>\n",
       "      <td>3017804</td>\n",
       "      <td>132596.4</td>\n",
       "      <td>56.16</td>\n",
       "      <td>1.087214</td>\n",
       "      <td>43.938042</td>\n",
       "    </tr>\n",
       "  </tbody>\n",
       "</table>\n",
       "</div>"
      ]
     },
     "execution_count": 5,
     "metadata": {},
     "output_type": "execute_result"
    }
   ],
   "execution_count": 5
  },
  {
   "metadata": {
    "ExecuteTime": {
     "end_time": "2024-08-06T15:27:14.763887Z",
     "start_time": "2024-08-06T15:27:14.759988Z"
    }
   },
   "cell_type": "code",
   "source": "len(higher_gdp), len(lower_gdp)",
   "id": "5323765d24a33bef",
   "outputs": [
    {
     "data": {
      "text/plain": [
       "(25, 25)"
      ]
     },
     "execution_count": 6,
     "metadata": {},
     "output_type": "execute_result"
    }
   ],
   "execution_count": 6
  },
  {
   "metadata": {
    "ExecuteTime": {
     "end_time": "2024-08-06T15:27:30.995876Z",
     "start_time": "2024-08-06T15:27:30.458900Z"
    }
   },
   "cell_type": "code",
   "source": [
    "from matplotlib import pyplot as plt\n",
    "\n",
    "plt.hist(higher_gdp['cases_norm'], alpha=0.7, label='GDP/pop > median')\n",
    "plt.hist(lower_gdp['cases_norm'], alpha=0.7, label='GDP/pop <= median')\n",
    "plt.legend()\n",
    "plt.xlabel('Cases per thousand residents')\n",
    "plt.ylabel('Count');"
   ],
   "id": "4f6bc8cbaec0240e",
   "outputs": [
    {
     "data": {
      "text/plain": [
       "<Figure size 640x480 with 1 Axes>"
      ],
      "image/png": "[encoded data removed]"
     },
     "metadata": {},
     "output_type": "display_data"
    }
   ],
   "execution_count": 7
  },
  {
   "metadata": {
    "ExecuteTime": {
     "end_time": "2024-08-06T15:28:11.134497Z",
     "start_time": "2024-08-06T15:28:11.130558Z"
    }
   },
   "cell_type": "code",
   "source": [
    "import numpy as np\n",
    "\n",
    "mybins = np.arange(0, 18, 2)\n",
    "mybins"
   ],
   "id": "109b17d584ddc8d3",
   "outputs": [
    {
     "data": {
      "text/plain": [
       "array([ 0,  2,  4,  6,  8, 10, 12, 14, 16])"
      ]
     },
     "execution_count": 8,
     "metadata": {},
     "output_type": "execute_result"
    }
   ],
   "execution_count": 8
  },
  {
   "metadata": {
    "ExecuteTime": {
     "end_time": "2024-08-06T15:28:29.342094Z",
     "start_time": "2024-08-06T15:28:29.202344Z"
    }
   },
   "cell_type": "code",
   "source": [
    "plt.hist(higher_gdp['cases_norm'], alpha=0.7, label='GDP/pop > median', bins=mybins)\n",
    "plt.hist(lower_gdp['cases_norm'], alpha=0.7, label='GDP/pop <= median', bins=mybins)\n",
    "plt.legend()\n",
    "plt.xlabel('Cases per thousand residents')\n",
    "plt.ylabel('Count');"
   ],
   "id": "7b9b1eff73336907",
   "outputs": [
    {
     "data": {
      "text/plain": [
       "<Figure size 640x480 with 1 Axes>"
      ],
      "image/png": "[encoded data removed]"
     },
     "metadata": {},
     "output_type": "display_data"
    }
   ],
   "execution_count": 9
  },
  {
   "metadata": {
    "ExecuteTime": {
     "end_time": "2024-08-06T15:28:53.036028Z",
     "start_time": "2024-08-06T15:28:53.030662Z"
    }
   },
   "cell_type": "code",
   "source": [
    "hgdp_mu = higher_gdp['cases_norm'].mean()\n",
    "lgdp_mu = lower_gdp['cases_norm'].mean()\n",
    "hgdp_mu, lgdp_mu"
   ],
   "id": "69f30fe219ec4226",
   "outputs": [
    {
     "data": {
      "text/plain": [
       "(np.float64(3.511241636831491), np.float64(1.9258062634390531))"
      ]
     },
     "execution_count": 10,
     "metadata": {},
     "output_type": "execute_result"
    }
   ],
   "execution_count": 10
  },
  {
   "metadata": {
    "ExecuteTime": {
     "end_time": "2024-08-06T15:29:03.834061Z",
     "start_time": "2024-08-06T15:29:03.829050Z"
    }
   },
   "cell_type": "code",
   "source": "higher_gdp['cases_norm'].median(), lower_gdp['cases_norm'].median()",
   "id": "7911b4f04d7cff60",
   "outputs": [
    {
     "data": {
      "text/plain": [
       "(np.float64(1.9453983135416348), np.float64(1.3878449780364717))"
      ]
     },
     "execution_count": 11,
     "metadata": {},
     "output_type": "execute_result"
    }
   ],
   "execution_count": 11
  },
  {
   "metadata": {
    "ExecuteTime": {
     "end_time": "2024-08-06T15:30:27.989132Z",
     "start_time": "2024-08-06T15:30:27.984378Z"
    }
   },
   "cell_type": "code",
   "source": [
    "m_urban = df['urban'].median()\n",
    "m_urban"
   ],
   "id": "b29f49201b923b9d",
   "outputs": [
    {
     "data": {
      "text/plain": [
       "np.float64(73.735)"
      ]
     },
     "execution_count": 13,
     "metadata": {},
     "output_type": "execute_result"
    }
   ],
   "execution_count": 13
  },
  {
   "metadata": {
    "ExecuteTime": {
     "end_time": "2024-08-06T15:30:39.470486Z",
     "start_time": "2024-08-06T15:30:39.462213Z"
    }
   },
   "cell_type": "code",
   "source": [
    "higher_urban = df.query('urban > @m_urban')\n",
    "lower_urban = df.query('urban <= @m_urban')\n",
    "len(higher_urban), len(lower_urban)"
   ],
   "id": "2d4c28053838ca87",
   "outputs": [
    {
     "data": {
      "text/plain": [
       "(25, 25)"
      ]
     },
     "execution_count": 14,
     "metadata": {},
     "output_type": "execute_result"
    }
   ],
   "execution_count": 14
  },
  {
   "metadata": {
    "ExecuteTime": {
     "end_time": "2024-08-06T15:30:56.033510Z",
     "start_time": "2024-08-06T15:30:56.029032Z"
    }
   },
   "cell_type": "code",
   "source": "higher_urban[\"cases_norm\"].mean(), lower_urban[\"cases_norm\"].mean()",
   "id": "3a7ec5577c03c9d0",
   "outputs": [
    {
     "data": {
      "text/plain": [
       "(np.float64(3.8908749904320756), np.float64(1.5461729098384682))"
      ]
     },
     "execution_count": 15,
     "metadata": {},
     "output_type": "execute_result"
    }
   ],
   "execution_count": 15
  }
 ],
 "metadata": {
  "kernelspec": {
   "display_name": "Python 3",
   "language": "python",
   "name": "python3"
  },
  "language_info": {
   "codemirror_mode": {
    "name": "ipython",
    "version": 2
   },
   "file_extension": ".py",
   "mimetype": "text/x-python",
   "name": "python",
   "nbconvert_exporter": "python",
   "pygments_lexer": "ipython2",
   "version": "2.7.6"
  }
 },
 "nbformat": 4,
 "nbformat_minor": 5
}

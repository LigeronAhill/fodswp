{
 "cells": [
  {
   "cell_type": "code",
   "id": "initial_id",
   "metadata": {
    "collapsed": true,
    "ExecuteTime": {
     "end_time": "2024-08-06T13:18:52.118602Z",
     "start_time": "2024-08-06T13:18:52.114778Z"
    }
   },
   "source": [
    "import random\n",
    "\n",
    "random.seed(1324)\n",
    "faces = ['H', 'T']"
   ],
   "outputs": [],
   "execution_count": 4
  },
  {
   "metadata": {
    "ExecuteTime": {
     "end_time": "2024-08-06T13:18:52.156495Z",
     "start_time": "2024-08-06T13:18:52.153142Z"
    }
   },
   "cell_type": "code",
   "source": [
    "def coinsim_print(num_sims=100, threshold=6, flips=20):\n",
    "    \"\"\"\n",
    "    Simulate multiple experiments, where each experiment involves flipping a coin\n",
    "    a specified number of times and printing the results of the experiment if the\n",
    "    number of heads observed is <= a threshold\n",
    "    Inputs:\n",
    "    threshold: will print if the number of heads observed is <= this value\n",
    "    num_sims: the total number of experiments to simulate\n",
    "    flips: the number of coin flips in one experiment\n",
    "    \"\"\"\n",
    "    for sim in range(num_sims):\n",
    "        coins = random.choices(faces, k=flips)\n",
    "        num_heads = coins.count('H')\n",
    "        if num_heads <= threshold:\n",
    "            print(f'{sim:2} : {num_heads} heads')"
   ],
   "id": "ba7cd73b0e44431d",
   "outputs": [],
   "execution_count": 5
  },
  {
   "metadata": {
    "ExecuteTime": {
     "end_time": "2024-08-06T13:18:52.175351Z",
     "start_time": "2024-08-06T13:18:52.172159Z"
    }
   },
   "cell_type": "code",
   "source": "coinsim_print()",
   "id": "a599209786cfa01b",
   "outputs": [
    {
     "name": "stdout",
     "output_type": "stream",
     "text": [
      " 5 : 6 heads\n",
      "17 : 4 heads\n",
      "28 : 6 heads\n",
      "67 : 6 heads\n",
      "79 : 6 heads\n"
     ]
    }
   ],
   "execution_count": 6
  },
  {
   "metadata": {
    "ExecuteTime": {
     "end_time": "2024-08-06T13:20:56.360669Z",
     "start_time": "2024-08-06T13:20:56.356345Z"
    }
   },
   "cell_type": "code",
   "source": [
    "def coinsim(num_sims=1000, threshold=6, flips=20):\n",
    "    \"\"\"\n",
    "    Simulate multiple experiments, where each experiment involves flipping a coin\n",
    "    a specified number of times and printing the results of the experiment if the\n",
    "    number of heads observed is <= a threshold\n",
    "    Inputs:\n",
    "    threshold: will print if the number of heads observed is <= this value\n",
    "    num_sims: the total number of experiments to simulate\n",
    "    flips: the number of coin flips in one experiment\n",
    "    \"\"\"\n",
    "    # count how many experiments satisfy the given criteria\n",
    "    event_count = 0\n",
    "    for sim in range(num_sims):\n",
    "        coins = random.choices(faces, k=flips)\n",
    "        num_heads = coins.count('H')\n",
    "        if num_heads <= threshold:\n",
    "            event_count += 1\n",
    "    print(f'Relative frequency of {threshold} or fewer heads', f'is {event_count / num_sims}')"
   ],
   "id": "3fb1723e6c5bbb39",
   "outputs": [],
   "execution_count": 9
  },
  {
   "metadata": {
    "ExecuteTime": {
     "end_time": "2024-08-06T13:21:15.574950Z",
     "start_time": "2024-08-06T13:21:15.569002Z"
    }
   },
   "cell_type": "code",
   "source": "coinsim()",
   "id": "b879cf98d349afe2",
   "outputs": [
    {
     "name": "stdout",
     "output_type": "stream",
     "text": [
      "Relative frequency of 6 or fewer heads is 0.062\n"
     ]
    }
   ],
   "execution_count": 10
  },
  {
   "metadata": {
    "ExecuteTime": {
     "end_time": "2024-08-06T13:21:57.098089Z",
     "start_time": "2024-08-06T13:21:54.928140Z"
    }
   },
   "cell_type": "code",
   "source": "coinsim(1_000_000)",
   "id": "5719824416d22c43",
   "outputs": [
    {
     "name": "stdout",
     "output_type": "stream",
     "text": [
      "Relative frequency of 6 or fewer heads is 0.057217\n"
     ]
    }
   ],
   "execution_count": 11
  },
  {
   "metadata": {
    "ExecuteTime": {
     "end_time": "2024-08-06T13:22:35.898912Z",
     "start_time": "2024-08-06T13:22:33.739719Z"
    }
   },
   "cell_type": "code",
   "source": "coinsim(1_000_000, threshold=4)",
   "id": "e0d2204320d94079",
   "outputs": [
    {
     "name": "stdout",
     "output_type": "stream",
     "text": [
      "Relative frequency of 4 or fewer heads is 0.00587\n"
     ]
    }
   ],
   "execution_count": 12
  }
 ],
 "metadata": {
  "kernelspec": {
   "display_name": "Python 3",
   "language": "python",
   "name": "python3"
  },
  "language_info": {
   "codemirror_mode": {
    "name": "ipython",
    "version": 2
   },
   "file_extension": ".py",
   "mimetype": "text/x-python",
   "name": "python",
   "nbconvert_exporter": "python",
   "pygments_lexer": "ipython2",
   "version": "2.7.6"
  }
 },
 "nbformat": 4,
 "nbformat_minor": 5
}
